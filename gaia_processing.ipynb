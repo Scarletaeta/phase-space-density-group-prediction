{
 "cells": [
  {
   "cell_type": "code",
   "execution_count": 2,
   "id": "65dfd7b6-a7a7-4ac1-991e-47901a774feb",
   "metadata": {},
   "outputs": [],
   "source": [
    "import matplotlib.pyplot as plt\n",
    "import numpy as np\n",
    "import os\n",
    "from os import path\n",
    "from pathlib import Path\n",
    "import pandas as pd\n",
    "import pickle\n",
    "import seaborn as sns\n",
    "import shutil\n",
    "import time\n",
    "\n",
    "from graphs.mixture_fit import best_fit_mixture\n",
    "from models.gaussian_mixture import remove_outliers, gaussian_mixture\n",
    "from preprocessing.exoplanets_gaia_crossmatch import gaia_exoplanets_cross, transform_to_cart\n",
    "from preprocessing.download_gaia import GaiaDataset\n",
    "from preprocessing.calc_density import get_densities"
   ]
  },
  {
   "cell_type": "markdown",
   "id": "0bfb48bf-fec4-4558-bbcf-ab9ddf35517e",
   "metadata": {},
   "source": [
    "## Create folder structure"
   ]
  },
  {
   "cell_type": "code",
   "execution_count": 6,
   "id": "e6ff7cc8-3851-43b9-84f7-5ec734bb7db1",
   "metadata": {},
   "outputs": [],
   "source": [
    "crossmatch_dir = \"data/crossmatch/dr3\"\n",
    "#\"~/OneDrive/phase_space_density_data/crossmatch/dr3\" \n",
    "\n",
    "densities_dir = \"data/densities/dr3\"\n",
    "#\"~/OneDrive/phase_space_density_data/densities/dr3\"\n",
    "\n",
    "classification_dir = \"data/classification/dr3\"\n",
    "#\"~/OneDrive/phase_space_density_data/classification/dr3\"\n",
    "\n",
    "datasets_dir = \"~/OneDrive/phase_space_density_data/initial_datasets\"\n",
    "#\"data/initial_datasets\"\n",
    "#\"~/OneDrive/phase_space_density_data/initial_datasets\" "
   ]
  },
  {
   "cell_type": "markdown",
   "id": "0cac63c4-aa72-4b18-ad83-e8c96b1ce7d8",
   "metadata": {},
   "source": [
    "# 1. Download Gaia dataset"
   ]
  },
  {
   "cell_type": "code",
   "execution_count": 5,
   "id": "e2d589aa-7bf8-408e-84dc-697439c72a44",
   "metadata": {},
   "outputs": [
    {
     "name": "stdout",
     "output_type": "stream",
     "text": [
      "INFO: Login to gaia TAP server [astroquery.gaia.core]\n",
      "OK\n",
      "INFO: Login to gaia data server [astroquery.gaia.core]\n",
      "OK\n",
      "INFO: Query finished. [astroquery.utils.tap.core]\n"
     ]
    }
   ],
   "source": [
    "GaiaDataset().get_gaia()"
   ]
  },
  {
   "cell_type": "markdown",
   "id": "7a0e4697-7f3e-4a92-9518-fe37cc9e93b1",
   "metadata": {},
   "source": [
    "# 2. Crossmatch NASA Exoplanet dataset with Gaia dataset"
   ]
  },
  {
   "cell_type": "code",
   "execution_count": 4,
   "id": "e6e9fba9-5c91-487d-a908-27725ed86ebb",
   "metadata": {},
   "outputs": [],
   "source": [
    "def exoplanet_gaia_crossmatch(crossmatch_dir, transform_type=\"6d\", table_name=\"gaiaedr3\", save_spherical=True):\n",
    "    \"\"\"\n",
    "    :param: transform_type: Type of coordinates transformation to perform on the data (6d, 5d_drop_vx, 5d_drop_vy or 5d_drop_vz).\n",
    "    :param: table_name: Name of the Gaia dataset to use.\n",
    "    :param: save_spherical: Save spherical values to a CSV file. When looping it is adviced to apply only once to save time. \n",
    "    \n",
    "    :return: Density values for 1065 exoplanets and their neighbours, Winter-Gaia-NASA exoplanet archive crossmatch\n",
    "    table containing 6D coordinates only and Winter-Gaia-NASA exoplanet archive crossmatch table with data from all 3\n",
    "    sources combined.\n",
    "    \"\"\"\n",
    "\n",
    "    # Cross match datasets and generate new ones.\n",
    "    gaia = gaia_exoplanets_cross(f\"{table_name}.csv\", crossmatch_dir, save_gaia_id=True, return_data=True, save_spherical=save_spherical)\n",
    "    transform_to_cart(gaia, table_name, crossmatch_dir, setting=transform_type)"
   ]
  },
  {
   "cell_type": "code",
   "execution_count": 5,
   "id": "3da03d62-13d3-4705-8f78-1e0ad8a9a021",
   "metadata": {
    "tags": []
   },
   "outputs": [
    {
     "ename": "KeyboardInterrupt",
     "evalue": "",
     "output_type": "error",
     "traceback": [
      "\u001b[0;31m---------------------------------------------------------------------------\u001b[0m",
      "\u001b[0;31mKeyboardInterrupt\u001b[0m                         Traceback (most recent call last)",
      "\u001b[0;32m/tmp/ipykernel_13916/3533275732.py\u001b[0m in \u001b[0;36m<module>\u001b[0;34m\u001b[0m\n\u001b[1;32m      2\u001b[0m \u001b[0mexoplanet_gaia_crossmatch\u001b[0m\u001b[0;34m(\u001b[0m\u001b[0mcrossmatch_dir\u001b[0m\u001b[0;34m,\u001b[0m \u001b[0mtransform_type\u001b[0m\u001b[0;34m=\u001b[0m\u001b[0;34m\"5d_drop_vx\"\u001b[0m\u001b[0;34m,\u001b[0m \u001b[0msave_spherical\u001b[0m\u001b[0;34m=\u001b[0m\u001b[0;32mFalse\u001b[0m\u001b[0;34m)\u001b[0m\u001b[0;34m\u001b[0m\u001b[0;34m\u001b[0m\u001b[0m\n\u001b[1;32m      3\u001b[0m \u001b[0mexoplanet_gaia_crossmatch\u001b[0m\u001b[0;34m(\u001b[0m\u001b[0mcrossmatch_dir\u001b[0m\u001b[0;34m,\u001b[0m \u001b[0mtransform_type\u001b[0m\u001b[0;34m=\u001b[0m\u001b[0;34m\"5d_drop_vy\"\u001b[0m\u001b[0;34m,\u001b[0m \u001b[0msave_spherical\u001b[0m\u001b[0;34m=\u001b[0m\u001b[0;32mFalse\u001b[0m\u001b[0;34m)\u001b[0m\u001b[0;34m\u001b[0m\u001b[0;34m\u001b[0m\u001b[0m\n\u001b[0;32m----> 4\u001b[0;31m \u001b[0mexoplanet_gaia_crossmatch\u001b[0m\u001b[0;34m(\u001b[0m\u001b[0mcrossmatch_dir\u001b[0m\u001b[0;34m,\u001b[0m \u001b[0mtransform_type\u001b[0m\u001b[0;34m=\u001b[0m\u001b[0;34m\"5d_drop_rv\"\u001b[0m\u001b[0;34m,\u001b[0m \u001b[0msave_spherical\u001b[0m\u001b[0;34m=\u001b[0m\u001b[0;32mFalse\u001b[0m\u001b[0;34m)\u001b[0m\u001b[0;34m\u001b[0m\u001b[0;34m\u001b[0m\u001b[0m\n\u001b[0m\u001b[1;32m      5\u001b[0m \u001b[0mexoplanet_gaia_crossmatch\u001b[0m\u001b[0;34m(\u001b[0m\u001b[0mcrossmatch_dir\u001b[0m\u001b[0;34m,\u001b[0m \u001b[0mtransform_type\u001b[0m\u001b[0;34m=\u001b[0m\u001b[0;34m\"5d_drop_vz\"\u001b[0m\u001b[0;34m,\u001b[0m \u001b[0msave_spherical\u001b[0m\u001b[0;34m=\u001b[0m\u001b[0;32mFalse\u001b[0m\u001b[0;34m)\u001b[0m\u001b[0;34m\u001b[0m\u001b[0;34m\u001b[0m\u001b[0m\n",
      "\u001b[0;32m/tmp/ipykernel_13916/85099474.py\u001b[0m in \u001b[0;36mexoplanet_gaia_crossmatch\u001b[0;34m(crossmatch_dir, transform_type, table_name, save_spherical)\u001b[0m\n\u001b[1;32m     12\u001b[0m     \u001b[0;31m# Cross match datasets and generate new ones.\u001b[0m\u001b[0;34m\u001b[0m\u001b[0;34m\u001b[0m\u001b[0m\n\u001b[1;32m     13\u001b[0m     \u001b[0mgaia\u001b[0m \u001b[0;34m=\u001b[0m \u001b[0mgaia_exoplanets_cross\u001b[0m\u001b[0;34m(\u001b[0m\u001b[0;34mf\"{table_name}.csv\"\u001b[0m\u001b[0;34m,\u001b[0m \u001b[0mcrossmatch_dir\u001b[0m\u001b[0;34m,\u001b[0m \u001b[0msave_gaia_id\u001b[0m\u001b[0;34m=\u001b[0m\u001b[0;32mTrue\u001b[0m\u001b[0;34m,\u001b[0m \u001b[0mreturn_data\u001b[0m\u001b[0;34m=\u001b[0m\u001b[0;32mTrue\u001b[0m\u001b[0;34m,\u001b[0m \u001b[0msave_spherical\u001b[0m\u001b[0;34m=\u001b[0m\u001b[0msave_spherical\u001b[0m\u001b[0;34m)\u001b[0m\u001b[0;34m\u001b[0m\u001b[0;34m\u001b[0m\u001b[0m\n\u001b[0;32m---> 14\u001b[0;31m     \u001b[0mtransform_to_cart\u001b[0m\u001b[0;34m(\u001b[0m\u001b[0mgaia\u001b[0m\u001b[0;34m,\u001b[0m \u001b[0mtable_name\u001b[0m\u001b[0;34m,\u001b[0m \u001b[0mcrossmatch_dir\u001b[0m\u001b[0;34m,\u001b[0m \u001b[0msetting\u001b[0m\u001b[0;34m=\u001b[0m\u001b[0mtransform_type\u001b[0m\u001b[0;34m)\u001b[0m\u001b[0;34m\u001b[0m\u001b[0;34m\u001b[0m\u001b[0m\n\u001b[0m",
      "\u001b[0;32m~/Documents/Michals_code/phase-space-density-group-prediction/preprocessing/exoplanets_gaia_crossmatch.py\u001b[0m in \u001b[0;36mtransform_to_cart\u001b[0;34m(gaia, table_name, crossmatch_dir, setting, predicted_radial_velocity)\u001b[0m\n\u001b[1;32m    120\u001b[0m \u001b[0;34m\u001b[0m\u001b[0m\n\u001b[1;32m    121\u001b[0m     \u001b[0;31m# Save to CSV\u001b[0m\u001b[0;34m\u001b[0m\u001b[0;34m\u001b[0m\u001b[0m\n\u001b[0;32m--> 122\u001b[0;31m     \u001b[0mgaia\u001b[0m\u001b[0;34m.\u001b[0m\u001b[0mto_csv\u001b[0m\u001b[0;34m(\u001b[0m\u001b[0mpath\u001b[0m\u001b[0;34m.\u001b[0m\u001b[0mjoin\u001b[0m\u001b[0;34m(\u001b[0m\u001b[0mcrossmatch_dir\u001b[0m\u001b[0;34m,\u001b[0m \u001b[0;34mf\"{table_name}_exoplanet_cross_cartesian_{setting}.csv\"\u001b[0m\u001b[0;34m)\u001b[0m\u001b[0;34m,\u001b[0m \u001b[0mindex\u001b[0m\u001b[0;34m=\u001b[0m\u001b[0;32mFalse\u001b[0m\u001b[0;34m)\u001b[0m\u001b[0;34m\u001b[0m\u001b[0;34m\u001b[0m\u001b[0m\n\u001b[0m\u001b[1;32m    123\u001b[0m \u001b[0;34m\u001b[0m\u001b[0m\n\u001b[1;32m    124\u001b[0m     \u001b[0;32mreturn\u001b[0m \u001b[0mgaia\u001b[0m\u001b[0;34m\u001b[0m\u001b[0;34m\u001b[0m\u001b[0m\n",
      "\u001b[0;32m~/anaconda3/envs/Exoplanets/lib/python3.9/site-packages/pandas/core/generic.py\u001b[0m in \u001b[0;36mto_csv\u001b[0;34m(self, path_or_buf, sep, na_rep, float_format, columns, header, index, index_label, mode, encoding, compression, quoting, quotechar, line_terminator, chunksize, date_format, doublequote, escapechar, decimal, errors, storage_options)\u001b[0m\n\u001b[1;32m   3464\u001b[0m         )\n\u001b[1;32m   3465\u001b[0m \u001b[0;34m\u001b[0m\u001b[0m\n\u001b[0;32m-> 3466\u001b[0;31m         return DataFrameRenderer(formatter).to_csv(\n\u001b[0m\u001b[1;32m   3467\u001b[0m             \u001b[0mpath_or_buf\u001b[0m\u001b[0;34m,\u001b[0m\u001b[0;34m\u001b[0m\u001b[0;34m\u001b[0m\u001b[0m\n\u001b[1;32m   3468\u001b[0m             \u001b[0mline_terminator\u001b[0m\u001b[0;34m=\u001b[0m\u001b[0mline_terminator\u001b[0m\u001b[0;34m,\u001b[0m\u001b[0;34m\u001b[0m\u001b[0;34m\u001b[0m\u001b[0m\n",
      "\u001b[0;32m~/anaconda3/envs/Exoplanets/lib/python3.9/site-packages/pandas/io/formats/format.py\u001b[0m in \u001b[0;36mto_csv\u001b[0;34m(self, path_or_buf, encoding, sep, columns, index_label, mode, compression, quoting, quotechar, line_terminator, chunksize, date_format, doublequote, escapechar, errors, storage_options)\u001b[0m\n\u001b[1;32m   1103\u001b[0m             \u001b[0mformatter\u001b[0m\u001b[0;34m=\u001b[0m\u001b[0mself\u001b[0m\u001b[0;34m.\u001b[0m\u001b[0mfmt\u001b[0m\u001b[0;34m,\u001b[0m\u001b[0;34m\u001b[0m\u001b[0;34m\u001b[0m\u001b[0m\n\u001b[1;32m   1104\u001b[0m         )\n\u001b[0;32m-> 1105\u001b[0;31m         \u001b[0mcsv_formatter\u001b[0m\u001b[0;34m.\u001b[0m\u001b[0msave\u001b[0m\u001b[0;34m(\u001b[0m\u001b[0;34m)\u001b[0m\u001b[0;34m\u001b[0m\u001b[0;34m\u001b[0m\u001b[0m\n\u001b[0m\u001b[1;32m   1106\u001b[0m \u001b[0;34m\u001b[0m\u001b[0m\n\u001b[1;32m   1107\u001b[0m         \u001b[0;32mif\u001b[0m \u001b[0mcreated_buffer\u001b[0m\u001b[0;34m:\u001b[0m\u001b[0;34m\u001b[0m\u001b[0;34m\u001b[0m\u001b[0m\n",
      "\u001b[0;32m~/anaconda3/envs/Exoplanets/lib/python3.9/site-packages/pandas/io/formats/csvs.py\u001b[0m in \u001b[0;36msave\u001b[0;34m(self)\u001b[0m\n\u001b[1;32m    255\u001b[0m             )\n\u001b[1;32m    256\u001b[0m \u001b[0;34m\u001b[0m\u001b[0m\n\u001b[0;32m--> 257\u001b[0;31m             \u001b[0mself\u001b[0m\u001b[0;34m.\u001b[0m\u001b[0m_save\u001b[0m\u001b[0;34m(\u001b[0m\u001b[0;34m)\u001b[0m\u001b[0;34m\u001b[0m\u001b[0;34m\u001b[0m\u001b[0m\n\u001b[0m\u001b[1;32m    258\u001b[0m \u001b[0;34m\u001b[0m\u001b[0m\n\u001b[1;32m    259\u001b[0m     \u001b[0;32mdef\u001b[0m \u001b[0m_save\u001b[0m\u001b[0;34m(\u001b[0m\u001b[0mself\u001b[0m\u001b[0;34m)\u001b[0m \u001b[0;34m->\u001b[0m \u001b[0;32mNone\u001b[0m\u001b[0;34m:\u001b[0m\u001b[0;34m\u001b[0m\u001b[0;34m\u001b[0m\u001b[0m\n",
      "\u001b[0;32m~/anaconda3/envs/Exoplanets/lib/python3.9/site-packages/pandas/io/formats/csvs.py\u001b[0m in \u001b[0;36m_save\u001b[0;34m(self)\u001b[0m\n\u001b[1;32m    260\u001b[0m         \u001b[0;32mif\u001b[0m \u001b[0mself\u001b[0m\u001b[0;34m.\u001b[0m\u001b[0m_need_to_save_header\u001b[0m\u001b[0;34m:\u001b[0m\u001b[0;34m\u001b[0m\u001b[0;34m\u001b[0m\u001b[0m\n\u001b[1;32m    261\u001b[0m             \u001b[0mself\u001b[0m\u001b[0;34m.\u001b[0m\u001b[0m_save_header\u001b[0m\u001b[0;34m(\u001b[0m\u001b[0;34m)\u001b[0m\u001b[0;34m\u001b[0m\u001b[0;34m\u001b[0m\u001b[0m\n\u001b[0;32m--> 262\u001b[0;31m         \u001b[0mself\u001b[0m\u001b[0;34m.\u001b[0m\u001b[0m_save_body\u001b[0m\u001b[0;34m(\u001b[0m\u001b[0;34m)\u001b[0m\u001b[0;34m\u001b[0m\u001b[0;34m\u001b[0m\u001b[0m\n\u001b[0m\u001b[1;32m    263\u001b[0m \u001b[0;34m\u001b[0m\u001b[0m\n\u001b[1;32m    264\u001b[0m     \u001b[0;32mdef\u001b[0m \u001b[0m_save_header\u001b[0m\u001b[0;34m(\u001b[0m\u001b[0mself\u001b[0m\u001b[0;34m)\u001b[0m \u001b[0;34m->\u001b[0m \u001b[0;32mNone\u001b[0m\u001b[0;34m:\u001b[0m\u001b[0;34m\u001b[0m\u001b[0;34m\u001b[0m\u001b[0m\n",
      "\u001b[0;32m~/anaconda3/envs/Exoplanets/lib/python3.9/site-packages/pandas/io/formats/csvs.py\u001b[0m in \u001b[0;36m_save_body\u001b[0;34m(self)\u001b[0m\n\u001b[1;32m    298\u001b[0m             \u001b[0;32mif\u001b[0m \u001b[0mstart_i\u001b[0m \u001b[0;34m>=\u001b[0m \u001b[0mend_i\u001b[0m\u001b[0;34m:\u001b[0m\u001b[0;34m\u001b[0m\u001b[0;34m\u001b[0m\u001b[0m\n\u001b[1;32m    299\u001b[0m                 \u001b[0;32mbreak\u001b[0m\u001b[0;34m\u001b[0m\u001b[0;34m\u001b[0m\u001b[0m\n\u001b[0;32m--> 300\u001b[0;31m             \u001b[0mself\u001b[0m\u001b[0;34m.\u001b[0m\u001b[0m_save_chunk\u001b[0m\u001b[0;34m(\u001b[0m\u001b[0mstart_i\u001b[0m\u001b[0;34m,\u001b[0m \u001b[0mend_i\u001b[0m\u001b[0;34m)\u001b[0m\u001b[0;34m\u001b[0m\u001b[0;34m\u001b[0m\u001b[0m\n\u001b[0m\u001b[1;32m    301\u001b[0m \u001b[0;34m\u001b[0m\u001b[0m\n\u001b[1;32m    302\u001b[0m     \u001b[0;32mdef\u001b[0m \u001b[0m_save_chunk\u001b[0m\u001b[0;34m(\u001b[0m\u001b[0mself\u001b[0m\u001b[0;34m,\u001b[0m \u001b[0mstart_i\u001b[0m\u001b[0;34m:\u001b[0m \u001b[0mint\u001b[0m\u001b[0;34m,\u001b[0m \u001b[0mend_i\u001b[0m\u001b[0;34m:\u001b[0m \u001b[0mint\u001b[0m\u001b[0;34m)\u001b[0m \u001b[0;34m->\u001b[0m \u001b[0;32mNone\u001b[0m\u001b[0;34m:\u001b[0m\u001b[0;34m\u001b[0m\u001b[0;34m\u001b[0m\u001b[0m\n",
      "\u001b[0;32m~/anaconda3/envs/Exoplanets/lib/python3.9/site-packages/pandas/io/formats/csvs.py\u001b[0m in \u001b[0;36m_save_chunk\u001b[0;34m(self, start_i, end_i)\u001b[0m\n\u001b[1;32m    305\u001b[0m         \u001b[0mdf\u001b[0m \u001b[0;34m=\u001b[0m \u001b[0mself\u001b[0m\u001b[0;34m.\u001b[0m\u001b[0mobj\u001b[0m\u001b[0;34m.\u001b[0m\u001b[0miloc\u001b[0m\u001b[0;34m[\u001b[0m\u001b[0mslicer\u001b[0m\u001b[0;34m]\u001b[0m\u001b[0;34m\u001b[0m\u001b[0;34m\u001b[0m\u001b[0m\n\u001b[1;32m    306\u001b[0m \u001b[0;34m\u001b[0m\u001b[0m\n\u001b[0;32m--> 307\u001b[0;31m         \u001b[0mres\u001b[0m \u001b[0;34m=\u001b[0m \u001b[0mdf\u001b[0m\u001b[0;34m.\u001b[0m\u001b[0m_mgr\u001b[0m\u001b[0;34m.\u001b[0m\u001b[0mto_native_types\u001b[0m\u001b[0;34m(\u001b[0m\u001b[0;34m**\u001b[0m\u001b[0mself\u001b[0m\u001b[0;34m.\u001b[0m\u001b[0m_number_format\u001b[0m\u001b[0;34m)\u001b[0m\u001b[0;34m\u001b[0m\u001b[0;34m\u001b[0m\u001b[0m\n\u001b[0m\u001b[1;32m    308\u001b[0m         \u001b[0mdata\u001b[0m \u001b[0;34m=\u001b[0m \u001b[0;34m[\u001b[0m\u001b[0mres\u001b[0m\u001b[0;34m.\u001b[0m\u001b[0miget_values\u001b[0m\u001b[0;34m(\u001b[0m\u001b[0mi\u001b[0m\u001b[0;34m)\u001b[0m \u001b[0;32mfor\u001b[0m \u001b[0mi\u001b[0m \u001b[0;32min\u001b[0m \u001b[0mrange\u001b[0m\u001b[0;34m(\u001b[0m\u001b[0mlen\u001b[0m\u001b[0;34m(\u001b[0m\u001b[0mres\u001b[0m\u001b[0;34m.\u001b[0m\u001b[0mitems\u001b[0m\u001b[0;34m)\u001b[0m\u001b[0;34m)\u001b[0m\u001b[0;34m]\u001b[0m\u001b[0;34m\u001b[0m\u001b[0;34m\u001b[0m\u001b[0m\n\u001b[1;32m    309\u001b[0m \u001b[0;34m\u001b[0m\u001b[0m\n",
      "\u001b[0;32m~/anaconda3/envs/Exoplanets/lib/python3.9/site-packages/pandas/core/internals/managers.py\u001b[0m in \u001b[0;36mto_native_types\u001b[0;34m(self, **kwargs)\u001b[0m\n\u001b[1;32m    464\u001b[0m         \u001b[0;32min\u001b[0m \u001b[0mformatting\u001b[0m \u001b[0;34m(\u001b[0m\u001b[0mrepr\u001b[0m \u001b[0;34m/\u001b[0m \u001b[0mcsv\u001b[0m\u001b[0;34m)\u001b[0m\u001b[0;34m.\u001b[0m\u001b[0;34m\u001b[0m\u001b[0;34m\u001b[0m\u001b[0m\n\u001b[1;32m    465\u001b[0m         \"\"\"\n\u001b[0;32m--> 466\u001b[0;31m         \u001b[0;32mreturn\u001b[0m \u001b[0mself\u001b[0m\u001b[0;34m.\u001b[0m\u001b[0mapply\u001b[0m\u001b[0;34m(\u001b[0m\u001b[0;34m\"to_native_types\"\u001b[0m\u001b[0;34m,\u001b[0m \u001b[0;34m**\u001b[0m\u001b[0mkwargs\u001b[0m\u001b[0;34m)\u001b[0m\u001b[0;34m\u001b[0m\u001b[0;34m\u001b[0m\u001b[0m\n\u001b[0m\u001b[1;32m    467\u001b[0m \u001b[0;34m\u001b[0m\u001b[0m\n\u001b[1;32m    468\u001b[0m     \u001b[0;32mdef\u001b[0m \u001b[0mis_consolidated\u001b[0m\u001b[0;34m(\u001b[0m\u001b[0mself\u001b[0m\u001b[0;34m)\u001b[0m \u001b[0;34m->\u001b[0m \u001b[0mbool\u001b[0m\u001b[0;34m:\u001b[0m\u001b[0;34m\u001b[0m\u001b[0;34m\u001b[0m\u001b[0m\n",
      "\u001b[0;32m~/anaconda3/envs/Exoplanets/lib/python3.9/site-packages/pandas/core/internals/managers.py\u001b[0m in \u001b[0;36mapply\u001b[0;34m(self, f, align_keys, ignore_failures, **kwargs)\u001b[0m\n\u001b[1;32m    325\u001b[0m                     \u001b[0mapplied\u001b[0m \u001b[0;34m=\u001b[0m \u001b[0mb\u001b[0m\u001b[0;34m.\u001b[0m\u001b[0mapply\u001b[0m\u001b[0;34m(\u001b[0m\u001b[0mf\u001b[0m\u001b[0;34m,\u001b[0m \u001b[0;34m**\u001b[0m\u001b[0mkwargs\u001b[0m\u001b[0;34m)\u001b[0m\u001b[0;34m\u001b[0m\u001b[0;34m\u001b[0m\u001b[0m\n\u001b[1;32m    326\u001b[0m                 \u001b[0;32melse\u001b[0m\u001b[0;34m:\u001b[0m\u001b[0;34m\u001b[0m\u001b[0;34m\u001b[0m\u001b[0m\n\u001b[0;32m--> 327\u001b[0;31m                     \u001b[0mapplied\u001b[0m \u001b[0;34m=\u001b[0m \u001b[0mgetattr\u001b[0m\u001b[0;34m(\u001b[0m\u001b[0mb\u001b[0m\u001b[0;34m,\u001b[0m \u001b[0mf\u001b[0m\u001b[0;34m)\u001b[0m\u001b[0;34m(\u001b[0m\u001b[0;34m**\u001b[0m\u001b[0mkwargs\u001b[0m\u001b[0;34m)\u001b[0m\u001b[0;34m\u001b[0m\u001b[0;34m\u001b[0m\u001b[0m\n\u001b[0m\u001b[1;32m    328\u001b[0m             \u001b[0;32mexcept\u001b[0m \u001b[0;34m(\u001b[0m\u001b[0mTypeError\u001b[0m\u001b[0;34m,\u001b[0m \u001b[0mNotImplementedError\u001b[0m\u001b[0;34m)\u001b[0m\u001b[0;34m:\u001b[0m\u001b[0;34m\u001b[0m\u001b[0;34m\u001b[0m\u001b[0m\n\u001b[1;32m    329\u001b[0m                 \u001b[0;32mif\u001b[0m \u001b[0;32mnot\u001b[0m \u001b[0mignore_failures\u001b[0m\u001b[0;34m:\u001b[0m\u001b[0;34m\u001b[0m\u001b[0;34m\u001b[0m\u001b[0m\n",
      "\u001b[0;32m~/anaconda3/envs/Exoplanets/lib/python3.9/site-packages/pandas/core/internals/blocks.py\u001b[0m in \u001b[0;36mto_native_types\u001b[0;34m(self, na_rep, quoting, **kwargs)\u001b[0m\n\u001b[1;32m    639\u001b[0m     \u001b[0;32mdef\u001b[0m \u001b[0mto_native_types\u001b[0m\u001b[0;34m(\u001b[0m\u001b[0mself\u001b[0m\u001b[0;34m,\u001b[0m \u001b[0mna_rep\u001b[0m\u001b[0;34m=\u001b[0m\u001b[0;34m\"nan\"\u001b[0m\u001b[0;34m,\u001b[0m \u001b[0mquoting\u001b[0m\u001b[0;34m=\u001b[0m\u001b[0;32mNone\u001b[0m\u001b[0;34m,\u001b[0m \u001b[0;34m**\u001b[0m\u001b[0mkwargs\u001b[0m\u001b[0;34m)\u001b[0m\u001b[0;34m:\u001b[0m\u001b[0;34m\u001b[0m\u001b[0;34m\u001b[0m\u001b[0m\n\u001b[1;32m    640\u001b[0m         \u001b[0;34m\"\"\"convert to our native types format\"\"\"\u001b[0m\u001b[0;34m\u001b[0m\u001b[0;34m\u001b[0m\u001b[0m\n\u001b[0;32m--> 641\u001b[0;31m         \u001b[0mresult\u001b[0m \u001b[0;34m=\u001b[0m \u001b[0mto_native_types\u001b[0m\u001b[0;34m(\u001b[0m\u001b[0mself\u001b[0m\u001b[0;34m.\u001b[0m\u001b[0mvalues\u001b[0m\u001b[0;34m,\u001b[0m \u001b[0mna_rep\u001b[0m\u001b[0;34m=\u001b[0m\u001b[0mna_rep\u001b[0m\u001b[0;34m,\u001b[0m \u001b[0mquoting\u001b[0m\u001b[0;34m=\u001b[0m\u001b[0mquoting\u001b[0m\u001b[0;34m,\u001b[0m \u001b[0;34m**\u001b[0m\u001b[0mkwargs\u001b[0m\u001b[0;34m)\u001b[0m\u001b[0;34m\u001b[0m\u001b[0;34m\u001b[0m\u001b[0m\n\u001b[0m\u001b[1;32m    642\u001b[0m         \u001b[0;32mreturn\u001b[0m \u001b[0mself\u001b[0m\u001b[0;34m.\u001b[0m\u001b[0mmake_block\u001b[0m\u001b[0;34m(\u001b[0m\u001b[0mresult\u001b[0m\u001b[0;34m)\u001b[0m\u001b[0;34m\u001b[0m\u001b[0;34m\u001b[0m\u001b[0m\n\u001b[1;32m    643\u001b[0m \u001b[0;34m\u001b[0m\u001b[0m\n",
      "\u001b[0;32m~/anaconda3/envs/Exoplanets/lib/python3.9/site-packages/pandas/core/internals/blocks.py\u001b[0m in \u001b[0;36mto_native_types\u001b[0;34m(values, na_rep, quoting, float_format, decimal, **kwargs)\u001b[0m\n\u001b[1;32m   2072\u001b[0m \u001b[0;34m\u001b[0m\u001b[0m\n\u001b[1;32m   2073\u001b[0m             \u001b[0;32mif\u001b[0m \u001b[0;32mnot\u001b[0m \u001b[0mquoting\u001b[0m\u001b[0;34m:\u001b[0m\u001b[0;34m\u001b[0m\u001b[0;34m\u001b[0m\u001b[0m\n\u001b[0;32m-> 2074\u001b[0;31m                 \u001b[0mvalues\u001b[0m \u001b[0;34m=\u001b[0m \u001b[0mvalues\u001b[0m\u001b[0;34m.\u001b[0m\u001b[0mastype\u001b[0m\u001b[0;34m(\u001b[0m\u001b[0mstr\u001b[0m\u001b[0;34m)\u001b[0m\u001b[0;34m\u001b[0m\u001b[0;34m\u001b[0m\u001b[0m\n\u001b[0m\u001b[1;32m   2075\u001b[0m             \u001b[0;32melse\u001b[0m\u001b[0;34m:\u001b[0m\u001b[0;34m\u001b[0m\u001b[0;34m\u001b[0m\u001b[0m\n\u001b[1;32m   2076\u001b[0m                 \u001b[0mvalues\u001b[0m \u001b[0;34m=\u001b[0m \u001b[0mnp\u001b[0m\u001b[0;34m.\u001b[0m\u001b[0marray\u001b[0m\u001b[0;34m(\u001b[0m\u001b[0mvalues\u001b[0m\u001b[0;34m,\u001b[0m \u001b[0mdtype\u001b[0m\u001b[0;34m=\u001b[0m\u001b[0;34m\"object\"\u001b[0m\u001b[0;34m)\u001b[0m\u001b[0;34m\u001b[0m\u001b[0;34m\u001b[0m\u001b[0m\n",
      "\u001b[0;31mKeyboardInterrupt\u001b[0m: "
     ]
    }
   ],
   "source": [
    "exoplanet_gaia_crossmatch(crossmatch_dir, transform_type=\"6d\", save_spherical=True)\n",
    "exoplanet_gaia_crossmatch(crossmatch_dir, transform_type=\"5d_drop_vx\", save_spherical=False)\n",
    "exoplanet_gaia_crossmatch(crossmatch_dir, transform_type=\"5d_drop_vy\", save_spherical=False)\n",
    "exoplanet_gaia_crossmatch(crossmatch_dir, transform_type=\"5d_drop_rv\", save_spherical=False)\n",
    "exoplanet_gaia_crossmatch(crossmatch_dir, transform_type=\"5d_drop_vz\", save_spherical=False)"
   ]
  },
  {
   "cell_type": "markdown",
   "id": "9bd4b916-ad8c-420a-96ed-1a879d7002c6",
   "metadata": {},
   "source": [
    "# 3. Calculate phase space density for neighbours of exoplanet hosts"
   ]
  },
  {
   "cell_type": "code",
   "execution_count": 7,
   "id": "3c4646a6-9e7c-4e9f-b5be-3a0851ff556e",
   "metadata": {},
   "outputs": [],
   "source": [
    "def calculate_densities(star_labels_filename, dataset_filename, crossmatch_dir, densities_dir, exoplanets_only=True, start=0, stop=1, step=1, run_on_gpu=False): #[SR] swticthed stop=100000 to stop=1\n",
    "    \"\"\"\n",
    "    Calculate phase space density for a given set of stars.\n",
    "    \n",
    "    :param: star_labels_filename: Name of the file containing star labels.\n",
    "    :param: dataset_filename: Name of the file containing coordinates of the stars.\n",
    "    :param: exoplanets_only: Compute density only for a list of exoplanets (~1000).\n",
    "    :param: n_stars: Number of stars to calculate density for.\n",
    "    :param: run_on_gpu: Use GPU accelerated pipeline.\n",
    "    \"\"\"\n",
    "    #stop=100,000 will calc the phase-space densities of 100,000 stars\n",
    "    #stop=100,000 can be changed. Can pick a star where you want to start and stop. This allows you to setect a random star to examine. Can start and a random interger and stop at +1\n",
    "    \n",
    "    labels_file = pd.read_csv(os.path.join(crossmatch_dir, star_labels_filename), dtype={\"source_id\": str, \"Host\": str})\n",
    "    gaia = pd.read_csv(os.path.join(crossmatch_dir, dataset_filename))\n",
    "                \n",
    "    if gaia.shape[1] == 6: #Checks whether there are 6 columns, i.e. 6D information\n",
    "        name = dataset_filename.split(\"_\")[0] + f\"_{dataset_filename[-6:-4]}\" #what does the -6 and -4 do?\n",
    "    else:\n",
    "        name = dataset_filename.split(\"_\")[0] + f\"_{dataset_filename[-14:-4]}\"\n",
    "\n",
    "    if exoplanets_only:\n",
    "        labels = labels_file[\"Host\"].dropna() #why would the host be na?\n",
    "        start = 0\n",
    "        stop = labels.shape[0] #the stop point is the number of rows in labels\n",
    "        step = 1\n",
    "        name = name + \"_only-\" + dataset_filename.split(\"_\")[1] + \"s\"\n",
    "    else:\n",
    "        labels = labels_file[\"source_id\"]\n",
    "        name = name + f\"_{str(start)}_{str(stop)}\"\n",
    "\n",
    "\n",
    "    densities, dropped = get_densities(labels.to_numpy(), gaia.to_numpy(), start=start, stop=stop, step=step, run_on_gpu=run_on_gpu)\n",
    "    \n",
    "    with open(f\"{densities_dir}/densities_{name}.data\", \"wb\") as f:\n",
    "        pickle.dump(densities, f)\n",
    "    with open(f\"{densities_dir}/dropped_densities_{name}.data\", \"wb\") as f:\n",
    "        pickle.dump(dropped, f)"
   ]
  },
  {
   "cell_type": "code",
   "execution_count": 8,
   "id": "ae354bc8-1cf0-4dda-850a-35c9ce28c24a",
   "metadata": {
    "tags": []
   },
   "outputs": [
    {
     "name": "stdout",
     "output_type": "stream",
     "text": [
      "gaiaedr3_exoplanet_cross_cartesian_5d_drop_rv.csv\n"
     ]
    },
    {
     "ename": "KeyboardInterrupt",
     "evalue": "",
     "output_type": "error",
     "traceback": [
      "\u001b[0;31m---------------------------------------------------------------------------\u001b[0m",
      "\u001b[0;31mKeyboardInterrupt\u001b[0m                         Traceback (most recent call last)",
      "\u001b[0;32m/tmp/ipykernel_13916/2560011062.py\u001b[0m in \u001b[0;36m<module>\u001b[0;34m\u001b[0m\n\u001b[1;32m      5\u001b[0m         \u001b[0mprint\u001b[0m\u001b[0;34m(\u001b[0m\u001b[0mfname\u001b[0m\u001b[0;34m)\u001b[0m\u001b[0;34m\u001b[0m\u001b[0;34m\u001b[0m\u001b[0m\n\u001b[1;32m      6\u001b[0m         \u001b[0mstart\u001b[0m \u001b[0;34m=\u001b[0m \u001b[0mtime\u001b[0m\u001b[0;34m.\u001b[0m\u001b[0mperf_counter\u001b[0m\u001b[0;34m(\u001b[0m\u001b[0;34m)\u001b[0m\u001b[0;34m\u001b[0m\u001b[0;34m\u001b[0m\u001b[0m\n\u001b[0;32m----> 7\u001b[0;31m         \u001b[0mcalculate_densities\u001b[0m\u001b[0;34m(\u001b[0m\u001b[0;34m\"gaiaedr3_star_labels.csv\"\u001b[0m\u001b[0;34m,\u001b[0m \u001b[0mfname\u001b[0m\u001b[0;34m,\u001b[0m \u001b[0mcrossmatch_dir\u001b[0m\u001b[0;34m,\u001b[0m \u001b[0mdensities_dir\u001b[0m\u001b[0;34m,\u001b[0m \u001b[0mexoplanets_only\u001b[0m\u001b[0;34m=\u001b[0m\u001b[0;32mTrue\u001b[0m\u001b[0;34m,\u001b[0m \u001b[0mrun_on_gpu\u001b[0m\u001b[0;34m=\u001b[0m\u001b[0;32mFalse\u001b[0m\u001b[0;34m)\u001b[0m \u001b[0;31m#[SR] set run_on_gpu=False\u001b[0m\u001b[0;34m\u001b[0m\u001b[0;34m\u001b[0m\u001b[0m\n\u001b[0m\u001b[1;32m      8\u001b[0m         \u001b[0mend\u001b[0m \u001b[0;34m=\u001b[0m \u001b[0mtime\u001b[0m\u001b[0;34m.\u001b[0m\u001b[0mperf_counter\u001b[0m\u001b[0;34m(\u001b[0m\u001b[0;34m)\u001b[0m\u001b[0;34m\u001b[0m\u001b[0;34m\u001b[0m\u001b[0m\n\u001b[1;32m      9\u001b[0m         \u001b[0mprint\u001b[0m\u001b[0;34m(\u001b[0m\u001b[0;34mf\"{fname} completed in: {str(end-start)}\"\u001b[0m\u001b[0;34m)\u001b[0m\u001b[0;34m\u001b[0m\u001b[0;34m\u001b[0m\u001b[0m\n",
      "\u001b[0;32m/tmp/ipykernel_13916/3699820986.py\u001b[0m in \u001b[0;36mcalculate_densities\u001b[0;34m(star_labels_filename, dataset_filename, crossmatch_dir, densities_dir, exoplanets_only, start, stop, step, run_on_gpu)\u001b[0m\n\u001b[1;32m     31\u001b[0m \u001b[0;34m\u001b[0m\u001b[0m\n\u001b[1;32m     32\u001b[0m \u001b[0;34m\u001b[0m\u001b[0m\n\u001b[0;32m---> 33\u001b[0;31m     \u001b[0mdensities\u001b[0m\u001b[0;34m,\u001b[0m \u001b[0mdropped\u001b[0m \u001b[0;34m=\u001b[0m \u001b[0mget_densities\u001b[0m\u001b[0;34m(\u001b[0m\u001b[0mlabels\u001b[0m\u001b[0;34m.\u001b[0m\u001b[0mto_numpy\u001b[0m\u001b[0;34m(\u001b[0m\u001b[0;34m)\u001b[0m\u001b[0;34m,\u001b[0m \u001b[0mgaia\u001b[0m\u001b[0;34m.\u001b[0m\u001b[0mto_numpy\u001b[0m\u001b[0;34m(\u001b[0m\u001b[0;34m)\u001b[0m\u001b[0;34m,\u001b[0m \u001b[0mstart\u001b[0m\u001b[0;34m=\u001b[0m\u001b[0mstart\u001b[0m\u001b[0;34m,\u001b[0m \u001b[0mstop\u001b[0m\u001b[0;34m=\u001b[0m\u001b[0mstop\u001b[0m\u001b[0;34m,\u001b[0m \u001b[0mstep\u001b[0m\u001b[0;34m=\u001b[0m\u001b[0mstep\u001b[0m\u001b[0;34m,\u001b[0m \u001b[0mrun_on_gpu\u001b[0m\u001b[0;34m=\u001b[0m\u001b[0mrun_on_gpu\u001b[0m\u001b[0;34m)\u001b[0m\u001b[0;34m\u001b[0m\u001b[0;34m\u001b[0m\u001b[0m\n\u001b[0m\u001b[1;32m     34\u001b[0m \u001b[0;34m\u001b[0m\u001b[0m\n\u001b[1;32m     35\u001b[0m     \u001b[0;32mwith\u001b[0m \u001b[0mopen\u001b[0m\u001b[0;34m(\u001b[0m\u001b[0;34mf\"{densities_dir}/densities_{name}.data\"\u001b[0m\u001b[0;34m,\u001b[0m \u001b[0;34m\"wb\"\u001b[0m\u001b[0;34m)\u001b[0m \u001b[0;32mas\u001b[0m \u001b[0mf\u001b[0m\u001b[0;34m:\u001b[0m\u001b[0;34m\u001b[0m\u001b[0;34m\u001b[0m\u001b[0m\n",
      "\u001b[0;32m~/Documents/Michals_code/phase-space-density-group-prediction/preprocessing/calc_density.py\u001b[0m in \u001b[0;36mget_densities\u001b[0;34m(labels, gaia, start, stop, step, run_on_gpu)\u001b[0m\n\u001b[1;32m    244\u001b[0m             \u001b[0mmah_dist_arr\u001b[0m \u001b[0;34m=\u001b[0m \u001b[0mnp\u001b[0m\u001b[0;34m.\u001b[0m\u001b[0mzeros\u001b[0m\u001b[0;34m(\u001b[0m\u001b[0mset1\u001b[0m\u001b[0;34m.\u001b[0m\u001b[0mshape\u001b[0m\u001b[0;34m[\u001b[0m\u001b[0;36m0\u001b[0m\u001b[0;34m]\u001b[0m\u001b[0;34m,\u001b[0m \u001b[0mdtype\u001b[0m\u001b[0;34m=\u001b[0m\u001b[0;34m\"float64\"\u001b[0m\u001b[0;34m)\u001b[0m\u001b[0;34m\u001b[0m\u001b[0;34m\u001b[0m\u001b[0m\n\u001b[1;32m    245\u001b[0m             \u001b[0;32mfor\u001b[0m \u001b[0mj\u001b[0m \u001b[0;32min\u001b[0m \u001b[0mrange\u001b[0m\u001b[0;34m(\u001b[0m\u001b[0mset1\u001b[0m\u001b[0;34m.\u001b[0m\u001b[0mshape\u001b[0m\u001b[0;34m[\u001b[0m\u001b[0;36m0\u001b[0m\u001b[0;34m]\u001b[0m\u001b[0;34m)\u001b[0m\u001b[0;34m:\u001b[0m\u001b[0;34m\u001b[0m\u001b[0;34m\u001b[0m\u001b[0m\n\u001b[0;32m--> 246\u001b[0;31m                 \u001b[0mmah_dist_arr\u001b[0m\u001b[0;34m[\u001b[0m\u001b[0mj\u001b[0m\u001b[0;34m]\u001b[0m \u001b[0;34m=\u001b[0m \u001b[0;34m(\u001b[0m\u001b[0mcalc_mah_cpu\u001b[0m\u001b[0;34m(\u001b[0m\u001b[0mset1\u001b[0m\u001b[0;34m[\u001b[0m\u001b[0mj\u001b[0m\u001b[0;34m]\u001b[0m\u001b[0;34m,\u001b[0m \u001b[0mset2\u001b[0m\u001b[0;34m,\u001b[0m \u001b[0mset2_inv\u001b[0m\u001b[0;34m)\u001b[0m\u001b[0;34m)\u001b[0m\u001b[0;34m\u001b[0m\u001b[0;34m\u001b[0m\u001b[0m\n\u001b[0m\u001b[1;32m    247\u001b[0m \u001b[0;34m\u001b[0m\u001b[0m\n\u001b[1;32m    248\u001b[0m         \u001b[0;31m# Calculate densities for each neighbour from set1\u001b[0m\u001b[0;34m\u001b[0m\u001b[0;34m\u001b[0m\u001b[0m\n",
      "\u001b[0;31mKeyboardInterrupt\u001b[0m: "
     ]
    }
   ],
   "source": [
    "for fname in os.listdir(crossmatch_dir):\n",
    "    if \"cartesian\" in fname:\n",
    "        if \"5d_drop_rv\" not in fname:\n",
    "            continue\n",
    "        print(fname)\n",
    "        start = time.perf_counter()\n",
    "        calculate_densities(\"gaiaedr3_star_labels.csv\", fname, crossmatch_dir, densities_dir, exoplanets_only=True, run_on_gpu=False) #[SR] set run_on_gpu=False\n",
    "        end = time.perf_counter()\n",
    "        print(f\"{fname} completed in: {str(end-start)}\")\n",
    "\n",
    "        start = time.perf_counter()\n",
    "        calculate_densities(\"gaiaedr3_star_labels.csv\", fname, crossmatch_dir, densities_dir, exoplanets_only=False, run_on_gpu=False) #[SR] set run_on_gpu=False\n",
    "        end = time.perf_counter()\n",
    "        print(f\"{fname} completed in: {str(end-start)}\")\n",
    "\n"
   ]
  },
  {
   "cell_type": "markdown",
   "id": "62e9423d-f2b3-42a6-aae2-48818dd17fb4",
   "metadata": {},
   "source": [
    "# 3. Fit gaussian mixture model to predict if target star belongs to overdensity or underdensity group. Return scores and attributes of the model."
   ]
  },
  {
   "cell_type": "code",
   "execution_count": null,
   "id": "f04685ab-3c02-4e6e-bca3-646094d24ee3",
   "metadata": {},
   "outputs": [],
   "source": [
    "def labels(row):\n",
    "    if row[\"gm_p_low\"] >= 0.84:\n",
    "        return \"0\"\n",
    "    elif row[\"gm_p_high\"] >= 0.84:\n",
    "        return \"2\"\n",
    "    else:\n",
    "        return \"1\""
   ]
  },
  {
   "cell_type": "code",
   "execution_count": null,
   "id": "ba9d2628-900c-4c72-85ce-a7e9e3bf98b2",
   "metadata": {},
   "outputs": [],
   "source": [
    "def fit_gaussian_mixture(file_name, classification_dir, densities_dir, show_graph=True, save_graph=True): # [SR] show_graph=False, save_graph=False switched to show_graph=True, save_graph=True\n",
    "\n",
    "    sigma = 2\n",
    "    fig_dir=None\n",
    "    file_name = file_name.split(\".\")[0]\n",
    "    if save_graph:  \n",
    "        if os.path.isdir(f\"figures/{file_name}\"):\n",
    "            shutil.rmtree(f\"figures/{file_name}\")\n",
    "        fig_dir = file_name\n",
    "    \n",
    "        os.mkdir(f\"figures/{fig_dir}\")\n",
    "    \n",
    "    with open(f\"{densities_dir}/{file_name}.data\", \"rb\") as f:\n",
    "        densities = pickle.load(f)\n",
    "\n",
    "    results = []\n",
    "    for i in densities:\n",
    "        # Compute log10 of the host density and expand dimensions for further use\n",
    "        target = np.expand_dims(np.log10(i[1]), axis=0).T\n",
    "\n",
    "        # Remove outliers outside sigma\n",
    "        data = remove_outliers(i[4], sigma=sigma)\n",
    "        \n",
    "        # Apply gaussian mixture model to the data\n",
    "        model, scores = gaussian_mixture(data, [target], components=2, scores_only=False)\n",
    "\n",
    "        # Create list consisting of star name and its density for graph drawing\n",
    "        scores.insert(0, target[0])\n",
    "        scores.insert(0, np.log10(i[4].min()))\n",
    "        scores.insert(0, np.log10(i[4].max()))\n",
    "        scores.insert(0, np.log10(i[4].std()))\n",
    "        scores.insert(0, np.log10(i[4].mean()))\n",
    "        scores.insert(0, i[3])\n",
    "        scores.insert(0, i[2])\n",
    "        scores.insert(0, i[0])\n",
    "        \n",
    "        results.append(scores)\n",
    "        \n",
    "        # Draw best fit mixture\n",
    "        if type(i[0]) != str:\n",
    "            host = [f\"{i[0]:.0f}\", target]\n",
    "        else:\n",
    "            host = [i[0], target]\n",
    "        \n",
    "        if show_graph or save_graph:\n",
    "            best_fit_mixture(model, data, host, results[densities.index(i)][4], fig_dir, show_graph, save_graph)\n",
    "\n",
    "    \n",
    "    df = pd.DataFrame(results, columns=[\"Host\", \"n_40pc_stars\", \"n_80pc_stars\", \"densities_mean\", \"densities_std\", \n",
    "                                        \"densities_max\", \"densities_min\", \"target_density\", \"gm_p_low\", \"gm_p_high\",\n",
    "                                        \"gm_mean_low\", \"gm_mean_high\", \"gm_cov_low\", \"gm_cov_high\", \"gm_aic\", \"gm_bic\"])\n",
    "    df[\"class\"] = df.apply(lambda row: labels(row), axis=1)\n",
    "\n",
    "    df.to_csv(f\"{classification_dir}/features_{file_name}.csv\")"
   ]
  },
  {
   "cell_type": "code",
   "execution_count": null,
   "id": "16539f98-48df-4982-9293-8ddb5cf6ece0",
   "metadata": {
    "tags": []
   },
   "outputs": [],
   "source": [
    "features = os.listdir(classification_dir)\n",
    "for fname in os.listdir(densities_dir):\n",
    "    for i in features:\n",
    "        if fname.split(\".\")[0] in i:\n",
    "            continue\n",
    "    fit_gaussian_mixture(fname, classification_dir, densities_dir, show_graph=False, save_graph=False)"
   ]
  },
  {
   "cell_type": "code",
   "execution_count": null,
   "id": "c7941899-5e86-49e7-9b40-d01196844aec",
   "metadata": {},
   "outputs": [],
   "source": []
  }
 ],
 "metadata": {
  "kernelspec": {
   "display_name": "Python 3 (ipykernel)",
   "language": "python",
   "name": "python3"
  },
  "language_info": {
   "codemirror_mode": {
    "name": "ipython",
    "version": 3
   },
   "file_extension": ".py",
   "mimetype": "text/x-python",
   "name": "python",
   "nbconvert_exporter": "python",
   "pygments_lexer": "ipython3",
   "version": "3.9.7"
  }
 },
 "nbformat": 4,
 "nbformat_minor": 5
}
