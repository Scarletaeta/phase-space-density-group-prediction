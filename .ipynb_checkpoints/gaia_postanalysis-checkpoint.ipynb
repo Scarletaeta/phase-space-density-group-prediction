{
 "cells": [
  {
   "cell_type": "code",
   "execution_count": 1,
   "id": "a6838dd4",
   "metadata": {},
   "outputs": [],
   "source": [
    "import matplotlib.pyplot as plt\n",
    "import numpy as np\n",
    "import os\n",
    "import pandas as pd\n",
    "from pathlib import Path\n",
    "import pickle\n",
    "import seaborn as sns\n",
    "\n",
    "from sklearn.ensemble import RandomForestClassifier\n",
    "from sklearn.ensemble import RandomForestRegressor\n",
    "from sklearn.metrics import accuracy_score, precision_score, recall_score, f1_score, r2_score, confusion_matrix\n",
    "from sklearn.metrics import mean_absolute_error as mae\n",
    "from sklearn.metrics import mean_squared_error as mse\n",
    "from sklearn.model_selection import train_test_split\n",
    "from sklearn.preprocessing import StandardScaler\n",
    "\n",
    "import tensorflow as tf\n",
    "from tensorflow.keras import Sequential, Input\n",
    "from tensorflow.keras.callbacks import EarlyStopping\n",
    "from tensorflow.keras.layers import Conv1D, MaxPooling1D, Flatten, Dense\n",
    "from tensorflow.keras.models import load_model\n",
    "from tensorflow.python.keras.layers.kernelized import RandomFourierFeatures\n",
    "\n",
    "import time"
   ]
  },
  {
   "cell_type": "markdown",
   "id": "91b6ac5d-c68b-4743-9273-fa6fe46087c4",
   "metadata": {
    "tags": []
   },
   "source": [
    "# Load data"
   ]
  },
  {
   "cell_type": "code",
   "execution_count": 2,
   "id": "f3696e5e",
   "metadata": {},
   "outputs": [],
   "source": [
    "#data_dir = \"data/classification/dr3\"\n",
    "data_dir = os.path.expanduser(\"~/OneDrive/phase_space_density_data/classification/dr3/\") # os,path.expanduser when you use \"~\" home directory\n",
    "\n",
    "def load_data(data_dir):\n",
    "    \"\"\"\n",
    "    Takes in a data directory and sorts out which files contain 5d and 6d \n",
    "    information. Returns two lists of file names, 5d and 6d.\n",
    "    \"\"\"\n",
    "    list_5d = [] # empty array to store 5d file names in\n",
    "    list_6d = [] # empty array to store 6d file names in\n",
    "    for file in sorted(os.listdir(data_dir)):\n",
    "        # sorted() sorts into ascending order\n",
    "        # os.listdr() gives a list of files and directories in a directory or \n",
    "        #the current working directory\n",
    "        if \"apg\" in file:\n",
    "            continue # TODO: why??\n",
    "        df = pd.read_csv(os.path.join(data_dir, file), index_col=0)\n",
    "        if \"5d\" in file:\n",
    "            list_5d.append(df)\n",
    "        else:\n",
    "            list_6d.append(df)\n",
    "    \n",
    "    # Building the 5d and 6d data frames from all of the files:\n",
    "    # TODO: what does concat do? Adds the files to the same data frame?\n",
    "    df_5d = pd.concat(list_5d, axis=0, ignore_index=True)\n",
    "    df_6d = pd.concat(list_6d, axis=0, ignore_index=True)\n",
    "    return df_5d, df_6d"
   ]
  },
  {
   "cell_type": "code",
   "execution_count": 3,
   "id": "6b833eb4",
   "metadata": {},
   "outputs": [],
   "source": [
    "df_5d, df_6d = load_data(data_dir)\n",
    "\n",
    "df_6d[\"class_6d\"] = df_6d[\"class\"]\n",
    "df_6d[\"gm_p_high_6d\"] = df_6d[\"gm_p_high\"]\n",
    "\n",
    "# Adding the 3 columns from the 6d df to the whole 5d df:\n",
    "df = pd.merge(df_5d, df_6d[[\"Host\", \"class_6d\", \"gm_p_high_6d\"]], on=\"Host\")"
   ]
  },
  {
   "cell_type": "code",
   "execution_count": 4,
   "id": "9620e4d1-0def-4701-91ac-afb4121dee87",
   "metadata": {},
   "outputs": [
    {
     "name": "stdout",
     "output_type": "stream",
     "text": [
      "                  Host  n_40pc_stars  n_80pc_stars  densities_mean  \\\n",
      "0  3946945413106333696          3443         26653        1.076468   \n",
      "1  1696798367260229376          3265         24853        0.108761   \n",
      "2  1920113512486282240          4675         33889        0.054638   \n",
      "3  1385293808145621504          5619         40586        0.204076   \n",
      "4  1986772848034988544          4984         35106        0.071706   \n",
      "\n",
      "   densities_std  densities_max  densities_min  target_density  gm_p_low  \\\n",
      "0       2.135811       3.482409      -5.707859       -1.050389  0.999867   \n",
      "1       0.241139       1.561548      -4.239513        0.158247  0.035972   \n",
      "2      -0.055226       0.816202      -4.020925       -1.508119  1.000000   \n",
      "3       0.239566       1.128827      -9.474854       -0.396675  0.602565   \n",
      "4      -0.019605       0.858768      -4.115064        0.057777  0.048381   \n",
      "\n",
      "      gm_p_high  gm_mean_low  gm_mean_high  gm_cov_low  gm_cov_high  \\\n",
      "0  1.333983e-04    -0.539928      0.163112    0.145671     0.068071   \n",
      "1  9.640284e-01    -0.554736      0.161809    0.117110     0.053537   \n",
      "2  1.750919e-10    -0.552628      0.133321    0.103894     0.047933   \n",
      "3  3.974351e-01    -0.730741      0.240624    0.296076     0.118009   \n",
      "4  9.516190e-01    -0.581398      0.152008    0.110724     0.052293   \n",
      "\n",
      "      gm_aic     gm_bic  class  class_6d  gm_p_high_6d  \n",
      "0  13.800443   3.800443      0       0.0  3.804340e-04  \n",
      "1   9.626222  -0.373778      2       2.0  9.728975e-01  \n",
      "2  20.785044  10.785044      0       0.0  4.883372e-12  \n",
      "3  12.132933   2.132933      1       2.0  9.144478e-01  \n",
      "4   9.672937  -0.327063      2       2.0  9.646890e-01  \n"
     ]
    }
   ],
   "source": [
    "#print(df.head())"
   ]
  },
  {
   "cell_type": "markdown",
   "id": "0ba1204e-5145-4d0a-8f0e-1a5123c77a61",
   "metadata": {},
   "source": [
    "# Helping functions"
   ]
  },
  {
   "cell_type": "code",
   "execution_count": null,
   "id": "f54e2449",
   "metadata": {},
   "outputs": [],
   "source": [
    "def encode_for_nn(y_test):\n",
    "    depth = tf.constant(3)\n",
    "    y_test = tf.one_hot(indices=y_test, depth=depth)\n",
    "    \n",
    "    return y_test"
   ]
  },
  {
   "cell_type": "code",
   "execution_count": null,
   "id": "ba85d006",
   "metadata": {},
   "outputs": [],
   "source": [
    "def cnn_scale(x_test):\n",
    "    sc = StandardScaler()\n",
    "    x_test = sc.fit_transform(x_test)\n",
    "    x_test = np.reshape(x_test, (x_test.shape[0], x_test.shape[1], 1))\n",
    "    \n",
    "    return x_test"
   ]
  },
  {
   "cell_type": "markdown",
   "id": "16780b2f-94d0-48bc-85bd-5a0494990b93",
   "metadata": {},
   "source": [
    "# Classification (of 5d)"
   ]
  },
  {
   "cell_type": "markdown",
   "id": "6825a583-8770-47e7-a575-7811a0d7e722",
   "metadata": {},
   "source": [
    "### Load model"
   ]
  },
  {
   "cell_type": "code",
   "execution_count": null,
   "id": "4479b35d",
   "metadata": {},
   "outputs": [],
   "source": [
    "model = load_model(\"saved_models/ANN/ANN_model_30\", compile=False)"
   ]
  },
  {
   "cell_type": "code",
   "execution_count": null,
   "id": "c404a397",
   "metadata": {},
   "outputs": [],
   "source": [
    "model.compile(optimizer=tf.keras.optimizers.Adam(learning_rate=0.0001), loss=\"categorical_crossentropy\", metrics=[\"categorical_accuracy\"])"
   ]
  },
  {
   "cell_type": "markdown",
   "id": "61b459df-eee8-4bcc-84c4-c00df016c5e5",
   "metadata": {},
   "source": [
    "### Specify test set size"
   ]
  },
  {
   "cell_type": "code",
   "execution_count": null,
   "id": "74238314",
   "metadata": {},
   "outputs": [],
   "source": [
    "test_size = 20000\n",
    "x_test = df_6d[[\"target_density\", \"densities_max\", \"densities_min\", \"densities_mean\", \"gm_cov_high\", \"gm_mean_high\"]][:test_size]\n",
    "y_test = df_6d[\"class_6d\"][:test_size]"
   ]
  },
  {
   "cell_type": "markdown",
   "id": "40c7bad3-94b3-410b-82cc-739ec80d29b6",
   "metadata": {},
   "source": [
    "### Predict star density group"
   ]
  },
  {
   "cell_type": "code",
   "execution_count": null,
   "id": "c59c644a",
   "metadata": {},
   "outputs": [],
   "source": [
    "preds = np.argmax(model.predict(x_test), axis=-1)\n",
    "accuracy_score(y_test, preds), accuracy_score(y_test, df_5d[\"class\"][:test_size])"
   ]
  },
  {
   "cell_type": "markdown",
   "id": "2ae3453c-edf4-4acb-b78a-2e3000de922a",
   "metadata": {},
   "source": [
    "### Compare with 6D, 5D and 5D predicted values"
   ]
  },
  {
   "cell_type": "code",
   "execution_count": null,
   "id": "0010904f",
   "metadata": {},
   "outputs": [],
   "source": [
    "def draw_triple_bar(bar1, bar2, bar3, bar1_label, bar2_label, bar3_label, classes, graph_name):\n",
    "    pairs = 3\n",
    "    ind = np.arange(pairs)\n",
    "    plt.figure(figsize=(10,5), facecolor=\"w\")\n",
    "    width = 0.3       \n",
    "\n",
    "    # Plotting\n",
    "    plt.bar(ind, bar1, width, label=bar1_label, color=[\"g\"])\n",
    "    plt.bar(ind + width, bar2, width, label=bar2_label, color=[\"b\"])\n",
    "    plt.bar(ind + width*2, bar3, width, label=bar3_label, color=[\"y\"])\n",
    "\n",
    "    plt.xlabel(\"Class group\")\n",
    "    plt.ylabel(\"Number of stars\")\n",
    "    plt.xticks(ind + width / 2, classes)\n",
    "\n",
    "    # Finding the best position for legends and putting it\n",
    "    plt.legend(loc=\"best\")\n",
    "    plt.savefig(f\"report_images/class_full_comparison.png\")"
   ]
  },
  {
   "cell_type": "code",
   "execution_count": null,
   "id": "bc9036d9",
   "metadata": {},
   "outputs": [],
   "source": [
    "bar1 = df_5d[\"class\"][:test_size].value_counts().sort_index().values\n",
    "bar2 = df_6d[\"class\"][:test_size].value_counts().sort_index().values\n",
    "bar3 = np.unique(preds, return_counts=True)[1]\n",
    "bar1_label = \"5D\"\n",
    "bar2_label = \"6D\"\n",
    "bar3_label = \"5D - predicted\"\n",
    "classes = [\"Underdensity\", \"Ambigous\", \"Overdensity\"]\n",
    "graph_name = \"prediction/6D comparison\"\n",
    "draw_triple_bar(bar1, bar2, bar3, bar1_label, bar2_label, bar3_label, classes, graph_name)"
   ]
  },
  {
   "cell_type": "markdown",
   "id": "dc58059d-4630-4169-b02e-7159af0a60d5",
   "metadata": {},
   "source": [
    "# Regression"
   ]
  },
  {
   "cell_type": "code",
   "execution_count": null,
   "id": "24a7d8f0",
   "metadata": {},
   "outputs": [],
   "source": [
    "def draw_reg(x, y, graph_name):\n",
    "    fig = plt.figure(figsize=(7, 5), facecolor=\"w\")\n",
    "    plt.scatter(x, y)\n",
    "    plt.xlabel(\"5D\")\n",
    "    plt.ylabel(\"Ground truth\")\n",
    "    plt.savefig(f\"report_images/{graph_name}.png\")\n",
    "    #plt.close()"
   ]
  },
  {
   "cell_type": "code",
   "execution_count": null,
   "id": "b1382fb8",
   "metadata": {},
   "outputs": [],
   "source": [
    "def draw_reg_comp(x1, y1, x2, y2, graph_name):\n",
    "    fig = plt.figure(figsize=(7, 5), facecolor=\"w\")\n",
    "    plt.scatter(x2, y2, label=\"5D\", c=\"g\", alpha=0.3)\n",
    "    plt.scatter(x1, y1, label=\"5D-predicted\")\n",
    "    \n",
    "    plt.xlabel(\"5D\")\n",
    "    plt.ylabel(\"Ground truth\")\n",
    "    plt.legend(loc=\"best\")\n",
    "    plt.savefig(f\"report_images/{graph_name}.png\")\n",
    "    #plt.close()"
   ]
  },
  {
   "cell_type": "markdown",
   "id": "aa8d8411-e48a-40ef-9dcf-360a08b4be7a",
   "metadata": {},
   "source": [
    "### Load model"
   ]
  },
  {
   "cell_type": "code",
   "execution_count": null,
   "id": "72635358",
   "metadata": {},
   "outputs": [],
   "source": [
    "model = load_model(\"saved_models/ANN_reg/ANN_model_21\", compile=False)\n",
    "model.compile(optimizer=tf.keras.optimizers.Adam(learning_rate=0.0001), loss=\"mse\")"
   ]
  },
  {
   "cell_type": "code",
   "execution_count": null,
   "id": "2ebca38a",
   "metadata": {},
   "outputs": [],
   "source": [
    "x_test = df_5d[[\"target_density\", \"densities_max\", \"densities_min\", \"densities_mean\", \"gm_cov_high\", \"gm_mean_high\"]][:test_size]\n",
    "y_test = df_6d[\"gm_p_high\"][:test_size]"
   ]
  },
  {
   "cell_type": "code",
   "execution_count": null,
   "id": "35b04eb4",
   "metadata": {},
   "outputs": [],
   "source": [
    "preds = model.predict(x_test)\n",
    "r2_score(y_test, preds), r2_score(y_test, df_5d[\"gm_p_high\"][:test_size])"
   ]
  },
  {
   "cell_type": "code",
   "execution_count": null,
   "id": "c0e4d9a0",
   "metadata": {},
   "outputs": [],
   "source": [
    "draw_reg(y_test, preds, \"best_regressor\")"
   ]
  },
  {
   "cell_type": "code",
   "execution_count": null,
   "id": "cdfe5856",
   "metadata": {},
   "outputs": [],
   "source": [
    "draw_reg_comp(y_test, preds, y_test, df_5d[\"gm_p_high\"][:test_size], \"reg_prediction_5d_comparison\")"
   ]
  }
 ],
 "metadata": {
  "kernelspec": {
   "display_name": "Python 3 (ipykernel)",
   "language": "python",
   "name": "python3"
  },
  "language_info": {
   "codemirror_mode": {
    "name": "ipython",
    "version": 3
   },
   "file_extension": ".py",
   "mimetype": "text/x-python",
   "name": "python",
   "nbconvert_exporter": "python",
   "pygments_lexer": "ipython3",
   "version": "3.9.7"
  }
 },
 "nbformat": 4,
 "nbformat_minor": 5
}
