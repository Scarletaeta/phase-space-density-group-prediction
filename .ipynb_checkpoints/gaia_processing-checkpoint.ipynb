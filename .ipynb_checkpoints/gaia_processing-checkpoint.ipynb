{
 "cells": [
  {
   "cell_type": "code",
   "execution_count": 1,
   "id": "65dfd7b6-a7a7-4ac1-991e-47901a774feb",
   "metadata": {},
   "outputs": [],
   "source": [
    "import matplotlib.pyplot as plt\n",
    "import numpy as np\n",
    "import os\n",
    "from os import path\n",
    "from pathlib import Path\n",
    "import pandas as pd\n",
    "import pickle\n",
    "import seaborn as sns\n",
    "import shutil\n",
    "import time\n",
    "\n",
    "from graphs.mixture_fit import best_fit_mixture\n",
    "from models.gaussian_mixture import remove_outliers, gaussian_mixture\n",
    "from preprocessing.exoplanets_gaia_crossmatch import gaia_exoplanets_cross, transform_to_cart\n",
    "from preprocessing.download_gaia import GaiaDataset\n",
    "from preprocessing.calc_density import get_densities"
   ]
  },
  {
   "cell_type": "markdown",
   "id": "0bfb48bf-fec4-4558-bbcf-ab9ddf35517e",
   "metadata": {},
   "source": [
    "## Create folder structure"
   ]
  },
  {
   "cell_type": "code",
   "execution_count": 2,
   "id": "e6ff7cc8-3851-43b9-84f7-5ec734bb7db1",
   "metadata": {},
   "outputs": [],
   "source": [
    "crossmatch_dir = \"data/crossmatch/dr3\" #[SR] I manually created these folders. The are not created in preprocessing/exoplanets_gaia_crossmatch.py\n",
    "densities_dir = \"data/densities/dr3\"\n",
    "classification_dir = \"data/classification/dr3\"\n",
    "datasets_dir = \"data/initial_datasets\""
   ]
  },
  {
   "cell_type": "markdown",
   "id": "0cac63c4-aa72-4b18-ad83-e8c96b1ce7d8",
   "metadata": {},
   "source": [
    "# 1. Download Gaia dataset"
   ]
  },
  {
   "cell_type": "code",
   "execution_count": 3,
   "id": "e2d589aa-7bf8-408e-84dc-697439c72a44",
   "metadata": {},
   "outputs": [
    {
     "name": "stdout",
     "output_type": "stream",
     "text": [
      "INFO: Login to gaia TAP server [astroquery.gaia.core]\n",
      "OK\n",
      "INFO: Login to gaia data server [astroquery.gaia.core]\n",
      "OK\n",
      "INFO: Query finished. [astroquery.utils.tap.core]\n"
     ]
    }
   ],
   "source": [
    "GaiaDataset().get_gaia()"
   ]
  },
  {
   "cell_type": "markdown",
   "id": "7a0e4697-7f3e-4a92-9518-fe37cc9e93b1",
   "metadata": {},
   "source": [
    "# 2. Crossmatch NASA Exoplanet dataset with Gaia dataset"
   ]
  },
  {
   "cell_type": "code",
   "execution_count": 3,
   "id": "e6e9fba9-5c91-487d-a908-27725ed86ebb",
   "metadata": {},
   "outputs": [],
   "source": [
    "def exoplanet_gaia_crossmatch(crossmatch_dir, transform_type=\"6d\", table_name=\"gaiaedr3\", save_spherical=True):\n",
    "    \"\"\"\n",
    "    :param: transform_type: Type of coordinates transformation to perform on the data (6d, 5d_drop_vx, 5d_drop_vy or 5d_drop_vz).\n",
    "    :param: table_name: Name of the Gaia dataset to use.\n",
    "    :param: save_spherical: Save spherical values to a CSV file. When looping it is adviced to apply only once to save time. \n",
    "    \n",
    "    :return: Density values for 1065 exoplanets and their neighbours, Winter-Gaia-NASA exoplanet archive crossmatch\n",
    "    table containing 6D coordinates only and Winter-Gaia-NASA exoplanet archive crossmatch table with data from all 3\n",
    "    sources combined.\n",
    "    \"\"\"\n",
    "\n",
    "    # Cross match datasets and generate new ones.\n",
    "    gaia = gaia_exoplanets_cross(f\"{table_name}.csv\", crossmatch_dir, save_gaia_id=True, return_data=True, save_spherical=save_spherical)\n",
    "    transform_to_cart(gaia, table_name, crossmatch_dir, setting=transform_type)"
   ]
  },
  {
   "cell_type": "code",
   "execution_count": 12,
   "id": "3da03d62-13d3-4705-8f78-1e0ad8a9a021",
   "metadata": {
    "tags": []
   },
   "outputs": [],
   "source": [
    "exoplanet_gaia_crossmatch(crossmatch_dir, transform_type=\"6d\", save_spherical=True)\n",
    "exoplanet_gaia_crossmatch(crossmatch_dir, transform_type=\"5d_drop_vx\", save_spherical=False)\n",
    "exoplanet_gaia_crossmatch(crossmatch_dir, transform_type=\"5d_drop_vy\", save_spherical=False)\n",
    "exoplanet_gaia_crossmatch(crossmatch_dir, transform_type=\"5d_drop_rv\", save_spherical=False)\n",
    "exoplanet_gaia_crossmatch(crossmatch_dir, transform_type=\"5d_drop_vz\", save_spherical=False)"
   ]
  },
  {
   "cell_type": "markdown",
   "id": "9bd4b916-ad8c-420a-96ed-1a879d7002c6",
   "metadata": {},
   "source": [
    "# 3. Calculate phase space density for neighbours of exoplanet hosts"
   ]
  },
  {
   "cell_type": "code",
   "execution_count": 13,
   "id": "3c4646a6-9e7c-4e9f-b5be-3a0851ff556e",
   "metadata": {},
   "outputs": [],
   "source": [
    "def calculate_densities(star_labels_filename, dataset_filename, crossmatch_dir, densities_dir, exoplanets_only=True, start=0, stop=100000, step=1, run_on_gpu=False):\n",
    "    \"\"\"\n",
    "    Calculate phase space density for given set of stars.\n",
    "    \n",
    "    :param: star_labels_filename: Name of the file containing star labels.\n",
    "    :param: dataset_filename: Name of the file containing coordinates of the stars.\n",
    "    :param: exoplanets_only: Compute density only for a list of exoplanets (~1000).\n",
    "    :param: n_stars: Numeber of stars to calculate density for.\n",
    "    :param: run_on_gpu: Use GPU accelerated pipeline.\n",
    "    \"\"\"\n",
    "    \n",
    "    labels_file = pd.read_csv(os.path.join(crossmatch_dir, star_labels_filename), dtype={\"source_id\": str, \"Host\": str})\n",
    "    gaia = pd.read_csv(os.path.join(crossmatch_dir, dataset_filename))\n",
    "                \n",
    "    if gaia.shape[1] == 6:\n",
    "        name = dataset_filename.split(\"_\")[0] + f\"_{dataset_filename[-6:-4]}\"\n",
    "    else:\n",
    "        name = dataset_filename.split(\"_\")[0] + f\"_{dataset_filename[-14:-4]}\"\n",
    "\n",
    "    if exoplanets_only:\n",
    "        labels = labels_file[\"Host\"].dropna()\n",
    "        start = 0\n",
    "        stop = labels.shape[0]\n",
    "        step = 1\n",
    "        name = name + \"_only-\" + dataset_filename.split(\"_\")[1] + \"s\"\n",
    "    else:\n",
    "        labels = labels_file[\"source_id\"]\n",
    "        name = name + f\"_{str(start)}_{str(stop)}\"\n",
    "\n",
    "\n",
    "    densities, dropped = get_densities(labels.to_numpy(), gaia.to_numpy(), start=start, stop=stop, step=step, run_on_gpu=run_on_gpu)\n",
    "    \n",
    "    with open(f\"{densities_dir}/densities_{name}.data\", \"wb\") as f:\n",
    "        pickle.dump(densities, f)\n",
    "    with open(f\"{densities_dir}/dropped_densities_{name}.data\", \"wb\") as f:\n",
    "        pickle.dump(dropped, f)"
   ]
  },
  {
   "cell_type": "code",
   "execution_count": 14,
   "id": "ae354bc8-1cf0-4dda-850a-35c9ce28c24a",
   "metadata": {
    "tags": []
   },
   "outputs": [
    {
     "name": "stdout",
     "output_type": "stream",
     "text": [
      "gaiaedr3_exoplanet_cross_cartesian_5d_drop_rv.csv\n"
     ]
    },
    {
     "ename": "CudaSupportError",
     "evalue": "Error at driver init: \n\nCUDA driver library cannot be found.\nIf you are sure that a CUDA driver is installed,\ntry setting environment variable NUMBA_CUDA_DRIVER\nwith the file path of the CUDA driver shared library.\n:",
     "output_type": "error",
     "traceback": [
      "\u001b[0;31m---------------------------------------------------------------------------\u001b[0m",
      "\u001b[0;31mCudaSupportError\u001b[0m                          Traceback (most recent call last)",
      "\u001b[0;32m/tmp/ipykernel_84531/2288187086.py\u001b[0m in \u001b[0;36m<module>\u001b[0;34m\u001b[0m\n\u001b[1;32m      5\u001b[0m         \u001b[0mprint\u001b[0m\u001b[0;34m(\u001b[0m\u001b[0mfname\u001b[0m\u001b[0;34m)\u001b[0m\u001b[0;34m\u001b[0m\u001b[0;34m\u001b[0m\u001b[0m\n\u001b[1;32m      6\u001b[0m         \u001b[0mstart\u001b[0m \u001b[0;34m=\u001b[0m \u001b[0mtime\u001b[0m\u001b[0;34m.\u001b[0m\u001b[0mperf_counter\u001b[0m\u001b[0;34m(\u001b[0m\u001b[0;34m)\u001b[0m\u001b[0;34m\u001b[0m\u001b[0;34m\u001b[0m\u001b[0m\n\u001b[0;32m----> 7\u001b[0;31m         \u001b[0mcalculate_densities\u001b[0m\u001b[0;34m(\u001b[0m\u001b[0;34m\"gaiaedr3_star_labels.csv\"\u001b[0m\u001b[0;34m,\u001b[0m \u001b[0mfname\u001b[0m\u001b[0;34m,\u001b[0m \u001b[0mcrossmatch_dir\u001b[0m\u001b[0;34m,\u001b[0m \u001b[0mdensities_dir\u001b[0m\u001b[0;34m,\u001b[0m \u001b[0mexoplanets_only\u001b[0m\u001b[0;34m=\u001b[0m\u001b[0;32mTrue\u001b[0m\u001b[0;34m,\u001b[0m \u001b[0mrun_on_gpu\u001b[0m\u001b[0;34m=\u001b[0m\u001b[0;32mTrue\u001b[0m\u001b[0;34m)\u001b[0m\u001b[0;34m\u001b[0m\u001b[0;34m\u001b[0m\u001b[0m\n\u001b[0m\u001b[1;32m      8\u001b[0m         \u001b[0mend\u001b[0m \u001b[0;34m=\u001b[0m \u001b[0mtime\u001b[0m\u001b[0;34m.\u001b[0m\u001b[0mperf_counter\u001b[0m\u001b[0;34m(\u001b[0m\u001b[0;34m)\u001b[0m\u001b[0;34m\u001b[0m\u001b[0;34m\u001b[0m\u001b[0m\n\u001b[1;32m      9\u001b[0m         \u001b[0mprint\u001b[0m\u001b[0;34m(\u001b[0m\u001b[0;34mf\"{fname} completed in: {str(end-start)}\"\u001b[0m\u001b[0;34m)\u001b[0m\u001b[0;34m\u001b[0m\u001b[0;34m\u001b[0m\u001b[0m\n",
      "\u001b[0;32m/tmp/ipykernel_84531/2591605466.py\u001b[0m in \u001b[0;36mcalculate_densities\u001b[0;34m(star_labels_filename, dataset_filename, crossmatch_dir, densities_dir, exoplanets_only, start, stop, step, run_on_gpu)\u001b[0m\n\u001b[1;32m     29\u001b[0m \u001b[0;34m\u001b[0m\u001b[0m\n\u001b[1;32m     30\u001b[0m \u001b[0;34m\u001b[0m\u001b[0m\n\u001b[0;32m---> 31\u001b[0;31m     \u001b[0mdensities\u001b[0m\u001b[0;34m,\u001b[0m \u001b[0mdropped\u001b[0m \u001b[0;34m=\u001b[0m \u001b[0mget_densities\u001b[0m\u001b[0;34m(\u001b[0m\u001b[0mlabels\u001b[0m\u001b[0;34m.\u001b[0m\u001b[0mto_numpy\u001b[0m\u001b[0;34m(\u001b[0m\u001b[0;34m)\u001b[0m\u001b[0;34m,\u001b[0m \u001b[0mgaia\u001b[0m\u001b[0;34m.\u001b[0m\u001b[0mto_numpy\u001b[0m\u001b[0;34m(\u001b[0m\u001b[0;34m)\u001b[0m\u001b[0;34m,\u001b[0m \u001b[0mstart\u001b[0m\u001b[0;34m=\u001b[0m\u001b[0mstart\u001b[0m\u001b[0;34m,\u001b[0m \u001b[0mstop\u001b[0m\u001b[0;34m=\u001b[0m\u001b[0mstop\u001b[0m\u001b[0;34m,\u001b[0m \u001b[0mstep\u001b[0m\u001b[0;34m=\u001b[0m\u001b[0mstep\u001b[0m\u001b[0;34m,\u001b[0m \u001b[0mrun_on_gpu\u001b[0m\u001b[0;34m=\u001b[0m\u001b[0mrun_on_gpu\u001b[0m\u001b[0;34m)\u001b[0m\u001b[0;34m\u001b[0m\u001b[0;34m\u001b[0m\u001b[0m\n\u001b[0m\u001b[1;32m     32\u001b[0m \u001b[0;34m\u001b[0m\u001b[0m\n\u001b[1;32m     33\u001b[0m     \u001b[0;32mwith\u001b[0m \u001b[0mopen\u001b[0m\u001b[0;34m(\u001b[0m\u001b[0;34mf\"{densities_dir}/densities_{name}.data\"\u001b[0m\u001b[0;34m,\u001b[0m \u001b[0;34m\"wb\"\u001b[0m\u001b[0;34m)\u001b[0m \u001b[0;32mas\u001b[0m \u001b[0mf\u001b[0m\u001b[0;34m:\u001b[0m\u001b[0;34m\u001b[0m\u001b[0;34m\u001b[0m\u001b[0m\n",
      "\u001b[0;32m~/Documents/Michals_code/phase-space-density-group-prediction/preprocessing/calc_density.py\u001b[0m in \u001b[0;36mget_densities\u001b[0;34m(labels, gaia, start, stop, step, run_on_gpu)\u001b[0m\n\u001b[1;32m    210\u001b[0m             \u001b[0mset1\u001b[0m \u001b[0;34m=\u001b[0m \u001b[0mnp\u001b[0m\u001b[0;34m.\u001b[0m\u001b[0mzeros\u001b[0m\u001b[0;34m(\u001b[0m\u001b[0mshape\u001b[0m\u001b[0;34m=\u001b[0m\u001b[0mgaia\u001b[0m\u001b[0;34m.\u001b[0m\u001b[0mshape\u001b[0m\u001b[0;34m)\u001b[0m\u001b[0;34m\u001b[0m\u001b[0;34m\u001b[0m\u001b[0m\n\u001b[1;32m    211\u001b[0m             \u001b[0mset2\u001b[0m \u001b[0;34m=\u001b[0m \u001b[0mnp\u001b[0m\u001b[0;34m.\u001b[0m\u001b[0mzeros\u001b[0m\u001b[0;34m(\u001b[0m\u001b[0mshape\u001b[0m\u001b[0;34m=\u001b[0m\u001b[0mgaia\u001b[0m\u001b[0;34m.\u001b[0m\u001b[0mshape\u001b[0m\u001b[0;34m)\u001b[0m\u001b[0;34m\u001b[0m\u001b[0;34m\u001b[0m\u001b[0m\n\u001b[0;32m--> 212\u001b[0;31m             \u001b[0mto_sets_gpu\u001b[0m\u001b[0;34m[\u001b[0m\u001b[0;36m16\u001b[0m\u001b[0;34m,\u001b[0m \u001b[0;36m32\u001b[0m\u001b[0;34m]\u001b[0m\u001b[0;34m(\u001b[0m\u001b[0mtarget\u001b[0m\u001b[0;34m,\u001b[0m \u001b[0mgaia\u001b[0m\u001b[0;34m,\u001b[0m \u001b[0mset1\u001b[0m\u001b[0;34m,\u001b[0m \u001b[0mset2\u001b[0m\u001b[0;34m)\u001b[0m\u001b[0;34m\u001b[0m\u001b[0;34m\u001b[0m\u001b[0m\n\u001b[0m\u001b[1;32m    213\u001b[0m             \u001b[0mset1\u001b[0m \u001b[0;34m=\u001b[0m \u001b[0mset1\u001b[0m\u001b[0;34m[\u001b[0m\u001b[0;34m~\u001b[0m\u001b[0mnp\u001b[0m\u001b[0;34m.\u001b[0m\u001b[0mall\u001b[0m\u001b[0;34m(\u001b[0m\u001b[0mset1\u001b[0m \u001b[0;34m==\u001b[0m \u001b[0;36m0\u001b[0m\u001b[0;34m,\u001b[0m \u001b[0maxis\u001b[0m\u001b[0;34m=\u001b[0m\u001b[0;36m1\u001b[0m\u001b[0;34m)\u001b[0m\u001b[0;34m]\u001b[0m\u001b[0;34m\u001b[0m\u001b[0;34m\u001b[0m\u001b[0m\n\u001b[1;32m    214\u001b[0m             \u001b[0mset2\u001b[0m \u001b[0;34m=\u001b[0m \u001b[0mset2\u001b[0m\u001b[0;34m[\u001b[0m\u001b[0;34m~\u001b[0m\u001b[0mnp\u001b[0m\u001b[0;34m.\u001b[0m\u001b[0mall\u001b[0m\u001b[0;34m(\u001b[0m\u001b[0mset2\u001b[0m \u001b[0;34m==\u001b[0m \u001b[0;36m0\u001b[0m\u001b[0;34m,\u001b[0m \u001b[0maxis\u001b[0m\u001b[0;34m=\u001b[0m\u001b[0;36m1\u001b[0m\u001b[0;34m)\u001b[0m\u001b[0;34m]\u001b[0m\u001b[0;34m\u001b[0m\u001b[0;34m\u001b[0m\u001b[0m\n",
      "\u001b[0;32m~/anaconda3/envs/Exoplanets/lib/python3.9/site-packages/numba/cuda/compiler.py\u001b[0m in \u001b[0;36m__getitem__\u001b[0;34m(self, args)\u001b[0m\n\u001b[1;32m    944\u001b[0m         \u001b[0;32mif\u001b[0m \u001b[0mlen\u001b[0m\u001b[0;34m(\u001b[0m\u001b[0margs\u001b[0m\u001b[0;34m)\u001b[0m \u001b[0;32mnot\u001b[0m \u001b[0;32min\u001b[0m \u001b[0;34m[\u001b[0m\u001b[0;36m2\u001b[0m\u001b[0;34m,\u001b[0m \u001b[0;36m3\u001b[0m\u001b[0;34m,\u001b[0m \u001b[0;36m4\u001b[0m\u001b[0;34m]\u001b[0m\u001b[0;34m:\u001b[0m\u001b[0;34m\u001b[0m\u001b[0;34m\u001b[0m\u001b[0m\n\u001b[1;32m    945\u001b[0m             \u001b[0;32mraise\u001b[0m \u001b[0mValueError\u001b[0m\u001b[0;34m(\u001b[0m\u001b[0;34m'must specify at least the griddim and blockdim'\u001b[0m\u001b[0;34m)\u001b[0m\u001b[0;34m\u001b[0m\u001b[0;34m\u001b[0m\u001b[0m\n\u001b[0;32m--> 946\u001b[0;31m         \u001b[0;32mreturn\u001b[0m \u001b[0mself\u001b[0m\u001b[0;34m.\u001b[0m\u001b[0mconfigure\u001b[0m\u001b[0;34m(\u001b[0m\u001b[0;34m*\u001b[0m\u001b[0margs\u001b[0m\u001b[0;34m)\u001b[0m\u001b[0;34m\u001b[0m\u001b[0;34m\u001b[0m\u001b[0m\n\u001b[0m\u001b[1;32m    947\u001b[0m \u001b[0;34m\u001b[0m\u001b[0m\n\u001b[1;32m    948\u001b[0m     \u001b[0;32mdef\u001b[0m \u001b[0mforall\u001b[0m\u001b[0;34m(\u001b[0m\u001b[0mself\u001b[0m\u001b[0;34m,\u001b[0m \u001b[0mntasks\u001b[0m\u001b[0;34m,\u001b[0m \u001b[0mtpb\u001b[0m\u001b[0;34m=\u001b[0m\u001b[0;36m0\u001b[0m\u001b[0;34m,\u001b[0m \u001b[0mstream\u001b[0m\u001b[0;34m=\u001b[0m\u001b[0;36m0\u001b[0m\u001b[0;34m,\u001b[0m \u001b[0msharedmem\u001b[0m\u001b[0;34m=\u001b[0m\u001b[0;36m0\u001b[0m\u001b[0;34m)\u001b[0m\u001b[0;34m:\u001b[0m\u001b[0;34m\u001b[0m\u001b[0;34m\u001b[0m\u001b[0m\n",
      "\u001b[0;32m~/anaconda3/envs/Exoplanets/lib/python3.9/site-packages/numba/cuda/compiler.py\u001b[0m in \u001b[0;36mconfigure\u001b[0;34m(self, griddim, blockdim, stream, sharedmem)\u001b[0m\n\u001b[1;32m    939\u001b[0m     \u001b[0;32mdef\u001b[0m \u001b[0mconfigure\u001b[0m\u001b[0;34m(\u001b[0m\u001b[0mself\u001b[0m\u001b[0;34m,\u001b[0m \u001b[0mgriddim\u001b[0m\u001b[0;34m,\u001b[0m \u001b[0mblockdim\u001b[0m\u001b[0;34m,\u001b[0m \u001b[0mstream\u001b[0m\u001b[0;34m=\u001b[0m\u001b[0;36m0\u001b[0m\u001b[0;34m,\u001b[0m \u001b[0msharedmem\u001b[0m\u001b[0;34m=\u001b[0m\u001b[0;36m0\u001b[0m\u001b[0;34m)\u001b[0m\u001b[0;34m:\u001b[0m\u001b[0;34m\u001b[0m\u001b[0;34m\u001b[0m\u001b[0m\n\u001b[1;32m    940\u001b[0m         \u001b[0mgriddim\u001b[0m\u001b[0;34m,\u001b[0m \u001b[0mblockdim\u001b[0m \u001b[0;34m=\u001b[0m \u001b[0mnormalize_kernel_dimensions\u001b[0m\u001b[0;34m(\u001b[0m\u001b[0mgriddim\u001b[0m\u001b[0;34m,\u001b[0m \u001b[0mblockdim\u001b[0m\u001b[0;34m)\u001b[0m\u001b[0;34m\u001b[0m\u001b[0;34m\u001b[0m\u001b[0m\n\u001b[0;32m--> 941\u001b[0;31m         \u001b[0;32mreturn\u001b[0m \u001b[0m_KernelConfiguration\u001b[0m\u001b[0;34m(\u001b[0m\u001b[0mself\u001b[0m\u001b[0;34m,\u001b[0m \u001b[0mgriddim\u001b[0m\u001b[0;34m,\u001b[0m \u001b[0mblockdim\u001b[0m\u001b[0;34m,\u001b[0m \u001b[0mstream\u001b[0m\u001b[0;34m,\u001b[0m \u001b[0msharedmem\u001b[0m\u001b[0;34m)\u001b[0m\u001b[0;34m\u001b[0m\u001b[0;34m\u001b[0m\u001b[0m\n\u001b[0m\u001b[1;32m    942\u001b[0m \u001b[0;34m\u001b[0m\u001b[0m\n\u001b[1;32m    943\u001b[0m     \u001b[0;32mdef\u001b[0m \u001b[0m__getitem__\u001b[0m\u001b[0;34m(\u001b[0m\u001b[0mself\u001b[0m\u001b[0;34m,\u001b[0m \u001b[0margs\u001b[0m\u001b[0;34m)\u001b[0m\u001b[0;34m:\u001b[0m\u001b[0;34m\u001b[0m\u001b[0;34m\u001b[0m\u001b[0m\n",
      "\u001b[0;32m~/anaconda3/envs/Exoplanets/lib/python3.9/site-packages/numba/cuda/compiler.py\u001b[0m in \u001b[0;36m__init__\u001b[0;34m(self, dispatcher, griddim, blockdim, stream, sharedmem)\u001b[0m\n\u001b[1;32m    855\u001b[0m \u001b[0;34m\u001b[0m\u001b[0m\n\u001b[1;32m    856\u001b[0m         \u001b[0;32mif\u001b[0m \u001b[0mconfig\u001b[0m\u001b[0;34m.\u001b[0m\u001b[0mCUDA_LOW_OCCUPANCY_WARNINGS\u001b[0m\u001b[0;34m:\u001b[0m\u001b[0;34m\u001b[0m\u001b[0;34m\u001b[0m\u001b[0m\n\u001b[0;32m--> 857\u001b[0;31m             \u001b[0mctx\u001b[0m \u001b[0;34m=\u001b[0m \u001b[0mget_context\u001b[0m\u001b[0;34m(\u001b[0m\u001b[0;34m)\u001b[0m\u001b[0;34m\u001b[0m\u001b[0;34m\u001b[0m\u001b[0m\n\u001b[0m\u001b[1;32m    858\u001b[0m             \u001b[0msmcount\u001b[0m \u001b[0;34m=\u001b[0m \u001b[0mctx\u001b[0m\u001b[0;34m.\u001b[0m\u001b[0mdevice\u001b[0m\u001b[0;34m.\u001b[0m\u001b[0mMULTIPROCESSOR_COUNT\u001b[0m\u001b[0;34m\u001b[0m\u001b[0;34m\u001b[0m\u001b[0m\n\u001b[1;32m    859\u001b[0m             \u001b[0mgrid_size\u001b[0m \u001b[0;34m=\u001b[0m \u001b[0mgriddim\u001b[0m\u001b[0;34m[\u001b[0m\u001b[0;36m0\u001b[0m\u001b[0;34m]\u001b[0m \u001b[0;34m*\u001b[0m \u001b[0mgriddim\u001b[0m\u001b[0;34m[\u001b[0m\u001b[0;36m1\u001b[0m\u001b[0;34m]\u001b[0m \u001b[0;34m*\u001b[0m \u001b[0mgriddim\u001b[0m\u001b[0;34m[\u001b[0m\u001b[0;36m2\u001b[0m\u001b[0;34m]\u001b[0m\u001b[0;34m\u001b[0m\u001b[0;34m\u001b[0m\u001b[0m\n",
      "\u001b[0;32m~/anaconda3/envs/Exoplanets/lib/python3.9/site-packages/numba/cuda/cudadrv/devices.py\u001b[0m in \u001b[0;36mget_context\u001b[0;34m(devnum)\u001b[0m\n\u001b[1;32m    210\u001b[0m     \u001b[0;32mreturn\u001b[0m \u001b[0mthe\u001b[0m \u001b[0mCUDA\u001b[0m \u001b[0mcontext\u001b[0m\u001b[0;34m.\u001b[0m\u001b[0;34m\u001b[0m\u001b[0;34m\u001b[0m\u001b[0m\n\u001b[1;32m    211\u001b[0m     \"\"\"\n\u001b[0;32m--> 212\u001b[0;31m     \u001b[0;32mreturn\u001b[0m \u001b[0m_runtime\u001b[0m\u001b[0;34m.\u001b[0m\u001b[0mget_or_create_context\u001b[0m\u001b[0;34m(\u001b[0m\u001b[0mdevnum\u001b[0m\u001b[0;34m)\u001b[0m\u001b[0;34m\u001b[0m\u001b[0;34m\u001b[0m\u001b[0m\n\u001b[0m\u001b[1;32m    213\u001b[0m \u001b[0;34m\u001b[0m\u001b[0m\n\u001b[1;32m    214\u001b[0m \u001b[0;34m\u001b[0m\u001b[0m\n",
      "\u001b[0;32m~/anaconda3/envs/Exoplanets/lib/python3.9/site-packages/numba/cuda/cudadrv/devices.py\u001b[0m in \u001b[0;36mget_or_create_context\u001b[0;34m(self, devnum)\u001b[0m\n\u001b[1;32m    136\u001b[0m             \u001b[0mattached_ctx\u001b[0m \u001b[0;34m=\u001b[0m \u001b[0mself\u001b[0m\u001b[0;34m.\u001b[0m\u001b[0m_get_attached_context\u001b[0m\u001b[0;34m(\u001b[0m\u001b[0;34m)\u001b[0m\u001b[0;34m\u001b[0m\u001b[0;34m\u001b[0m\u001b[0m\n\u001b[1;32m    137\u001b[0m             \u001b[0;32mif\u001b[0m \u001b[0mattached_ctx\u001b[0m \u001b[0;32mis\u001b[0m \u001b[0;32mNone\u001b[0m\u001b[0;34m:\u001b[0m\u001b[0;34m\u001b[0m\u001b[0;34m\u001b[0m\u001b[0m\n\u001b[0;32m--> 138\u001b[0;31m                 \u001b[0;32mreturn\u001b[0m \u001b[0mself\u001b[0m\u001b[0;34m.\u001b[0m\u001b[0m_get_or_create_context_uncached\u001b[0m\u001b[0;34m(\u001b[0m\u001b[0mdevnum\u001b[0m\u001b[0;34m)\u001b[0m\u001b[0;34m\u001b[0m\u001b[0;34m\u001b[0m\u001b[0m\n\u001b[0m\u001b[1;32m    139\u001b[0m             \u001b[0;32melse\u001b[0m\u001b[0;34m:\u001b[0m\u001b[0;34m\u001b[0m\u001b[0;34m\u001b[0m\u001b[0m\n\u001b[1;32m    140\u001b[0m                 \u001b[0;32mreturn\u001b[0m \u001b[0mattached_ctx\u001b[0m\u001b[0;34m\u001b[0m\u001b[0;34m\u001b[0m\u001b[0m\n",
      "\u001b[0;32m~/anaconda3/envs/Exoplanets/lib/python3.9/site-packages/numba/cuda/cudadrv/devices.py\u001b[0m in \u001b[0;36m_get_or_create_context_uncached\u001b[0;34m(self, devnum)\u001b[0m\n\u001b[1;32m    149\u001b[0m             \u001b[0;31m# Try to get the active context in the CUDA stack or\u001b[0m\u001b[0;34m\u001b[0m\u001b[0;34m\u001b[0m\u001b[0m\n\u001b[1;32m    150\u001b[0m             \u001b[0;31m# activate GPU-0 with the primary context\u001b[0m\u001b[0;34m\u001b[0m\u001b[0;34m\u001b[0m\u001b[0m\n\u001b[0;32m--> 151\u001b[0;31m             \u001b[0;32mwith\u001b[0m \u001b[0mdriver\u001b[0m\u001b[0;34m.\u001b[0m\u001b[0mget_active_context\u001b[0m\u001b[0;34m(\u001b[0m\u001b[0;34m)\u001b[0m \u001b[0;32mas\u001b[0m \u001b[0mac\u001b[0m\u001b[0;34m:\u001b[0m\u001b[0;34m\u001b[0m\u001b[0;34m\u001b[0m\u001b[0m\n\u001b[0m\u001b[1;32m    152\u001b[0m                 \u001b[0;32mif\u001b[0m \u001b[0;32mnot\u001b[0m \u001b[0mac\u001b[0m\u001b[0;34m:\u001b[0m\u001b[0;34m\u001b[0m\u001b[0;34m\u001b[0m\u001b[0m\n\u001b[1;32m    153\u001b[0m                     \u001b[0;32mreturn\u001b[0m \u001b[0mself\u001b[0m\u001b[0;34m.\u001b[0m\u001b[0m_activate_context_for\u001b[0m\u001b[0;34m(\u001b[0m\u001b[0;36m0\u001b[0m\u001b[0;34m)\u001b[0m\u001b[0;34m\u001b[0m\u001b[0;34m\u001b[0m\u001b[0m\n",
      "\u001b[0;32m~/anaconda3/envs/Exoplanets/lib/python3.9/site-packages/numba/cuda/cudadrv/driver.py\u001b[0m in \u001b[0;36m__enter__\u001b[0;34m(self)\u001b[0m\n\u001b[1;32m    399\u001b[0m         \u001b[0;32melse\u001b[0m\u001b[0;34m:\u001b[0m\u001b[0;34m\u001b[0m\u001b[0;34m\u001b[0m\u001b[0m\n\u001b[1;32m    400\u001b[0m             \u001b[0mhctx\u001b[0m \u001b[0;34m=\u001b[0m \u001b[0mdrvapi\u001b[0m\u001b[0;34m.\u001b[0m\u001b[0mcu_context\u001b[0m\u001b[0;34m(\u001b[0m\u001b[0;36m0\u001b[0m\u001b[0;34m)\u001b[0m\u001b[0;34m\u001b[0m\u001b[0;34m\u001b[0m\u001b[0m\n\u001b[0;32m--> 401\u001b[0;31m             \u001b[0mdriver\u001b[0m\u001b[0;34m.\u001b[0m\u001b[0mcuCtxGetCurrent\u001b[0m\u001b[0;34m(\u001b[0m\u001b[0mbyref\u001b[0m\u001b[0;34m(\u001b[0m\u001b[0mhctx\u001b[0m\u001b[0;34m)\u001b[0m\u001b[0;34m)\u001b[0m\u001b[0;34m\u001b[0m\u001b[0;34m\u001b[0m\u001b[0m\n\u001b[0m\u001b[1;32m    402\u001b[0m             \u001b[0mhctx\u001b[0m \u001b[0;34m=\u001b[0m \u001b[0mhctx\u001b[0m \u001b[0;32mif\u001b[0m \u001b[0mhctx\u001b[0m\u001b[0;34m.\u001b[0m\u001b[0mvalue\u001b[0m \u001b[0;32melse\u001b[0m \u001b[0;32mNone\u001b[0m\u001b[0;34m\u001b[0m\u001b[0;34m\u001b[0m\u001b[0m\n\u001b[1;32m    403\u001b[0m \u001b[0;34m\u001b[0m\u001b[0m\n",
      "\u001b[0;32m~/anaconda3/envs/Exoplanets/lib/python3.9/site-packages/numba/cuda/cudadrv/driver.py\u001b[0m in \u001b[0;36m__getattr__\u001b[0;34m(self, fname)\u001b[0m\n\u001b[1;32m    279\u001b[0m \u001b[0;34m\u001b[0m\u001b[0m\n\u001b[1;32m    280\u001b[0m         \u001b[0;32mif\u001b[0m \u001b[0mself\u001b[0m\u001b[0;34m.\u001b[0m\u001b[0minitialization_error\u001b[0m \u001b[0;32mis\u001b[0m \u001b[0;32mnot\u001b[0m \u001b[0;32mNone\u001b[0m\u001b[0;34m:\u001b[0m\u001b[0;34m\u001b[0m\u001b[0;34m\u001b[0m\u001b[0m\n\u001b[0;32m--> 281\u001b[0;31m             raise CudaSupportError(\"Error at driver init: \\n%s:\" %\n\u001b[0m\u001b[1;32m    282\u001b[0m                                    self.initialization_error)\n\u001b[1;32m    283\u001b[0m \u001b[0;34m\u001b[0m\u001b[0m\n",
      "\u001b[0;31mCudaSupportError\u001b[0m: Error at driver init: \n\nCUDA driver library cannot be found.\nIf you are sure that a CUDA driver is installed,\ntry setting environment variable NUMBA_CUDA_DRIVER\nwith the file path of the CUDA driver shared library.\n:"
     ]
    }
   ],
   "source": [
    "for fname in os.listdir(crossmatch_dir):\n",
    "    if \"cartesian\" in fname:\n",
    "        if \"5d_drop_rv\" not in fname:\n",
    "            continue\n",
    "        print(fname)\n",
    "        start = time.perf_counter()\n",
    "        calculate_densities(\"gaiaedr3_star_labels.csv\", fname, crossmatch_dir, densities_dir, exoplanets_only=True, run_on_gpu=True)\n",
    "        end = time.perf_counter()\n",
    "        print(f\"{fname} completed in: {str(end-start)}\")\n",
    "\n",
    "        start = time.perf_counter()\n",
    "        calculate_densities(\"gaiaedr3_star_labels.csv\", fname, crossmatch_dir, densities_dir, exoplanets_only=False, run_on_gpu=True)\n",
    "        end = time.perf_counter()\n",
    "        print(f\"{fname} completed in: {str(end-start)}\")#\n",
    "\n",
    "        \n",
    "#in calculate_densities(star_labels_filename, dataset_filename, crossmatch_dir, densities_dir, exoplanets_only, start, stop, step, run_on_gpu)\n",
    "#L31\n",
    "#densities, dropped = get_densities(labels.to_numpy(), gaia.to_numpy(), start=start, stop=stop, step=step, run_on_gpu=run_on_gpu)\n",
    "#I guess I need to set run_on_gpu to false or find a gpu\n",
    "\n",
    "#CudaSupportError: Error at driver init: \n",
    "#CUDA driver library cannot be found.\n",
    "#If you are sure that a CUDA driver is installed,\n",
    "#try setting environment variable NUMBA_CUDA_DRIVER\n",
    "#with the file path of the CUDA driver shared library.\n",
    "#:"
   ]
  },
  {
   "cell_type": "markdown",
   "id": "62e9423d-f2b3-42a6-aae2-48818dd17fb4",
   "metadata": {},
   "source": [
    "# 3. Fit gaussian mixture model to predict if target star belongs to overdensity or underdensity group. Return scores and attributes of the model."
   ]
  },
  {
   "cell_type": "code",
   "execution_count": null,
   "id": "f04685ab-3c02-4e6e-bca3-646094d24ee3",
   "metadata": {},
   "outputs": [],
   "source": [
    "def labels(row):\n",
    "    if row[\"gm_p_low\"] >= 0.84:\n",
    "        return \"0\"\n",
    "    elif row[\"gm_p_high\"] >= 0.84:\n",
    "        return \"2\"\n",
    "    else:\n",
    "        return \"1\""
   ]
  },
  {
   "cell_type": "code",
   "execution_count": null,
   "id": "ba9d2628-900c-4c72-85ce-a7e9e3bf98b2",
   "metadata": {},
   "outputs": [],
   "source": [
    "def fit_gaussian_mixture(file_name, classification_dir, densities_dir, show_graph=False, save_graph=False):\n",
    "\n",
    "    sigma = 2\n",
    "    fig_dir=None\n",
    "    file_name = file_name.split(\".\")[0]\n",
    "    if save_graph:  \n",
    "        if os.path.isdir(f\"figures/{file_name}\"):\n",
    "            shutil.rmtree(f\"figures/{file_name}\")\n",
    "        fig_dir = file_name\n",
    "    \n",
    "        os.mkdir(f\"figures/{fig_dir}\")\n",
    "    \n",
    "    with open(f\"{densities_dir}/{file_name}.data\", \"rb\") as f:\n",
    "        densities = pickle.load(f)\n",
    "\n",
    "    results = []\n",
    "    for i in densities:\n",
    "        # Compute log10 of the host density and expand dimensions for further use\n",
    "        target = np.expand_dims(np.log10(i[1]), axis=0).T\n",
    "\n",
    "        # Remove outliers outside sigma\n",
    "        data = remove_outliers(i[4], sigma=sigma)\n",
    "        \n",
    "        # Apply gaussian mixture model to the data\n",
    "        model, scores = gaussian_mixture(data, [target], components=2, scores_only=False)\n",
    "\n",
    "        # Create list consisting of star name and its density for graph drawing\n",
    "        scores.insert(0, target[0])\n",
    "        scores.insert(0, np.log10(i[4].min()))\n",
    "        scores.insert(0, np.log10(i[4].max()))\n",
    "        scores.insert(0, np.log10(i[4].std()))\n",
    "        scores.insert(0, np.log10(i[4].mean()))\n",
    "        scores.insert(0, i[3])\n",
    "        scores.insert(0, i[2])\n",
    "        scores.insert(0, i[0])\n",
    "        \n",
    "        results.append(scores)\n",
    "        \n",
    "        # Draw best fit mixture\n",
    "        if type(i[0]) != str:\n",
    "            host = [f\"{i[0]:.0f}\", target]\n",
    "        else:\n",
    "            host = [i[0], target]\n",
    "        \n",
    "        if show_graph or save_graph:\n",
    "            best_fit_mixture(model, data, host, results[densities.index(i)][4], fig_dir, show_graph, save_graph)\n",
    "\n",
    "    \n",
    "    df = pd.DataFrame(results, columns=[\"Host\", \"n_40pc_stars\", \"n_80pc_stars\", \"densities_mean\", \"densities_std\", \n",
    "                                        \"densities_max\", \"densities_min\", \"target_density\", \"gm_p_low\", \"gm_p_high\",\n",
    "                                        \"gm_mean_low\", \"gm_mean_high\", \"gm_cov_low\", \"gm_cov_high\", \"gm_aic\", \"gm_bic\"])\n",
    "    df[\"class\"] = df.apply(lambda row: labels(row), axis=1)\n",
    "\n",
    "    df.to_csv(f\"{classification_dir}/features_{file_name}.csv\")"
   ]
  },
  {
   "cell_type": "code",
   "execution_count": null,
   "id": "16539f98-48df-4982-9293-8ddb5cf6ece0",
   "metadata": {
    "tags": []
   },
   "outputs": [],
   "source": [
    "features = os.listdir(classification_dir)\n",
    "for fname in os.listdir(densities_dir):\n",
    "    for i in features:\n",
    "        if fname.split(\".\")[0] in i:\n",
    "            continue\n",
    "    fit_gaussian_mixture(fname, classification_dir, densities_dir, show_graph=False, save_graph=False)"
   ]
  },
  {
   "cell_type": "code",
   "execution_count": null,
   "id": "c7941899-5e86-49e7-9b40-d01196844aec",
   "metadata": {},
   "outputs": [],
   "source": []
  }
 ],
 "metadata": {
  "kernelspec": {
   "display_name": "Python 3 (ipykernel)",
   "language": "python",
   "name": "python3"
  },
  "language_info": {
   "codemirror_mode": {
    "name": "ipython",
    "version": 3
   },
   "file_extension": ".py",
   "mimetype": "text/x-python",
   "name": "python",
   "nbconvert_exporter": "python",
   "pygments_lexer": "ipython3",
   "version": "3.9.7"
  }
 },
 "nbformat": 4,
 "nbformat_minor": 5
}
